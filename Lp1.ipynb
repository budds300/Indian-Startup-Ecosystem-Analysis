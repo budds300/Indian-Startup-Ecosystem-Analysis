{
 "cells": [
  {
   "cell_type": "markdown",
   "metadata": {},
   "source": [
    "## **Indian Start-up Investment Analysis (2018 - 2021)**"
   ]
  },
  {
   "cell_type": "markdown",
   "metadata": {},
   "source": [
    "#### **General Objective:**\n",
    "To assess the investment potential and attractiveness of the Indian startup ecosystem and provide recommendations for optimal course of action"
   ]
  },
  {
   "cell_type": "markdown",
   "metadata": {},
   "source": [
    "#### **Specific Objectives:**\n",
    "\n",
    "1. Evaluate the trend in the number of startups securing funding annually to determine the growth pattern within the startup ecosystem over the past four years.\n",
    "\n",
    "2. Assess the average funding size received by startups each year to understand the financial dynamics and investor confidence levels in the startup landscape from 2018 to 2021.\n",
    "\n",
    "3. Identify the top investors in the startup scene and analyze their investment distribution across different sectors, focusing specifically on the proportion of investments allocated to the top three funded startups within each sector during the specified period."
   ]
  },
  {
   "cell_type": "markdown",
   "metadata": {},
   "source": [
    "#### **Business Questions:**\n",
    "1.  Analyze the growth trajectory of startups over the past four years from 2018 to 2021. Investigate if there is an increase in the number of startups being funded and the average size companies of funded annually.\n",
    "2. Investigate the financial landscape for Indian startups over the four years. Has the average funding amount increased, indicating growing investor confidence, or has it plateaued or decreased overtime? \n",
    "3. Identify the booming sectors withing the ecosystem and which top city serves as the industrial hub in India.\n",
    "\n",
    "4. Determine the top investors within the startup ecosystem and identify the proportion of investment by the first 3 investors that have funded different sectors from 2018 - 2021 \n",
    "5. Explore which stages of startups (e.g., Seed, Series A, Series B) are receiving the majority of investments. What are the predominant stages funded, and which cities are the identified stages of business situated. \n"
   ]
  },
  {
   "cell_type": "markdown",
   "metadata": {},
   "source": [
    "### **Hypothesis to Test:**\n",
    " \n",
    "**Null Hypothesis (H0):**\n",
    "There is no significant difference in the average funding amounts received across different sectors within the Indian startup ecosystem from 2018 to 2021.\n",
    "\n",
    "**Alternative Hypothesis (H1):**\n",
    "There is a significant difference in the average funding amounts received across different sectors within the Indian startup ecosystem from 2018 to 2021."
   ]
  },
  {
   "cell_type": "markdown",
   "metadata": {},
   "source": [
    "### Import Packages for Analysis"
   ]
  },
  {
   "cell_type": "code",
   "execution_count": 117,
   "metadata": {},
   "outputs": [],
   "source": [
    "\n",
    "# import relevant packages\n",
    "import pyodbc\n",
    "from dotenv import dotenv_values\n",
    "import pandas as pd\n",
    "import warnings\n",
    "import numpy as np\n",
    "import io\n",
    "import requests\n",
    "import pandas as pd\n",
    "import matplotlib.pyplot as plt\n",
    "import seaborn as sns\n",
    "\n",
    "warnings.filterwarnings('ignore')\n"
   ]
  },
  {
   "cell_type": "markdown",
   "metadata": {},
   "source": [
    "##### Connect to server for 2020 and 2021 datasets"
   ]
  },
  {
   "cell_type": "code",
   "execution_count": 2,
   "metadata": {},
   "outputs": [],
   "source": [
    "# load environment variables from .env file into a dictionary\n",
    "environment_variables = dotenv_values('.env')\n",
    "\n",
    "# Get the values for the credentials from .env file\n",
    "database=environment_variables.get(\"DATABASE_NAME\")\n",
    "server=environment_variables.get(\"SERVER\")\n",
    "login=environment_variables.get(\"LOGIN\")\n",
    "password=environment_variables.get(\"PASSWORD\")\n",
    "\n",
    "# create a connection string\n",
    "connection_string=f\"DRIVER={{SQL Server}};SERVER={server};DATABASE={database};UID={login};PWD={password}\""
   ]
  },
  {
   "cell_type": "code",
   "execution_count": 3,
   "metadata": {},
   "outputs": [],
   "source": [
    "# create connection using the pyodbc method \n",
    "\n",
    "connection = pyodbc.connect(connection_string)"
   ]
  },
  {
   "cell_type": "markdown",
   "metadata": {},
   "source": [
    "#### Select tables of interest from the Database"
   ]
  },
  {
   "cell_type": "code",
   "execution_count": 4,
   "metadata": {},
   "outputs": [],
   "source": [
    "# selecting tables from Database\n",
    "db_query = ''' SELECT *\n",
    "            FROM INFORMATION_SCHEMA.TABLES\n",
    "            WHERE TABLE_TYPE = 'BASE TABLE' '''"
   ]
  },
  {
   "cell_type": "markdown",
   "metadata": {},
   "source": [
    "#### View tables of interest from the Database "
   ]
  },
  {
   "cell_type": "code",
   "execution_count": 5,
   "metadata": {},
   "outputs": [
    {
     "data": {
      "text/html": [
       "<div>\n",
       "<style scoped>\n",
       "    .dataframe tbody tr th:only-of-type {\n",
       "        vertical-align: middle;\n",
       "    }\n",
       "\n",
       "    .dataframe tbody tr th {\n",
       "        vertical-align: top;\n",
       "    }\n",
       "\n",
       "    .dataframe thead th {\n",
       "        text-align: right;\n",
       "    }\n",
       "</style>\n",
       "<table border=\"1\" class=\"dataframe\">\n",
       "  <thead>\n",
       "    <tr style=\"text-align: right;\">\n",
       "      <th></th>\n",
       "      <th>TABLE_CATALOG</th>\n",
       "      <th>TABLE_SCHEMA</th>\n",
       "      <th>TABLE_NAME</th>\n",
       "      <th>TABLE_TYPE</th>\n",
       "    </tr>\n",
       "  </thead>\n",
       "  <tbody>\n",
       "    <tr>\n",
       "      <th>0</th>\n",
       "      <td>dapDB</td>\n",
       "      <td>dbo</td>\n",
       "      <td>LP1_startup_funding2021</td>\n",
       "      <td>BASE TABLE</td>\n",
       "    </tr>\n",
       "    <tr>\n",
       "      <th>1</th>\n",
       "      <td>dapDB</td>\n",
       "      <td>dbo</td>\n",
       "      <td>LP1_startup_funding2020</td>\n",
       "      <td>BASE TABLE</td>\n",
       "    </tr>\n",
       "  </tbody>\n",
       "</table>\n",
       "</div>"
      ],
      "text/plain": [
       "  TABLE_CATALOG TABLE_SCHEMA               TABLE_NAME  TABLE_TYPE\n",
       "0         dapDB          dbo  LP1_startup_funding2021  BASE TABLE\n",
       "1         dapDB          dbo  LP1_startup_funding2020  BASE TABLE"
      ]
     },
     "execution_count": 5,
     "metadata": {},
     "output_type": "execute_result"
    }
   ],
   "source": [
    "# call selected table from SQL Database\n",
    "ata=pd.read_sql(db_query, connection)\n",
    "\n",
    "ata"
   ]
  },
  {
   "cell_type": "markdown",
   "metadata": {},
   "source": [
    "#### Preview of Datasets"
   ]
  },
  {
   "cell_type": "markdown",
   "metadata": {},
   "source": [
    "#### Data_2020"
   ]
  },
  {
   "cell_type": "code",
   "execution_count": 6,
   "metadata": {},
   "outputs": [
    {
     "data": {
      "text/html": [
       "<div>\n",
       "<style scoped>\n",
       "    .dataframe tbody tr th:only-of-type {\n",
       "        vertical-align: middle;\n",
       "    }\n",
       "\n",
       "    .dataframe tbody tr th {\n",
       "        vertical-align: top;\n",
       "    }\n",
       "\n",
       "    .dataframe thead th {\n",
       "        text-align: right;\n",
       "    }\n",
       "</style>\n",
       "<table border=\"1\" class=\"dataframe\">\n",
       "  <thead>\n",
       "    <tr style=\"text-align: right;\">\n",
       "      <th></th>\n",
       "      <th>Company_Brand</th>\n",
       "      <th>Founded</th>\n",
       "      <th>HeadQuarter</th>\n",
       "      <th>Sector</th>\n",
       "      <th>What_it_does</th>\n",
       "      <th>Founders</th>\n",
       "      <th>Investor</th>\n",
       "      <th>Amount</th>\n",
       "      <th>Stage</th>\n",
       "      <th>column10</th>\n",
       "    </tr>\n",
       "  </thead>\n",
       "  <tbody>\n",
       "    <tr>\n",
       "      <th>0</th>\n",
       "      <td>Aqgromalin</td>\n",
       "      <td>2019.0</td>\n",
       "      <td>Chennai</td>\n",
       "      <td>AgriTech</td>\n",
       "      <td>Cultivating Ideas for Profit</td>\n",
       "      <td>Prasanna Manogaran, Bharani C L</td>\n",
       "      <td>Angel investors</td>\n",
       "      <td>200000.0</td>\n",
       "      <td>None</td>\n",
       "      <td>None</td>\n",
       "    </tr>\n",
       "    <tr>\n",
       "      <th>1</th>\n",
       "      <td>Krayonnz</td>\n",
       "      <td>2019.0</td>\n",
       "      <td>Bangalore</td>\n",
       "      <td>EdTech</td>\n",
       "      <td>An academy-guardian-scholar centric ecosystem ...</td>\n",
       "      <td>Saurabh Dixit, Gurudutt Upadhyay</td>\n",
       "      <td>GSF Accelerator</td>\n",
       "      <td>100000.0</td>\n",
       "      <td>Pre-seed</td>\n",
       "      <td>None</td>\n",
       "    </tr>\n",
       "    <tr>\n",
       "      <th>2</th>\n",
       "      <td>PadCare Labs</td>\n",
       "      <td>2018.0</td>\n",
       "      <td>Pune</td>\n",
       "      <td>Hygiene management</td>\n",
       "      <td>Converting bio-hazardous waste to harmless waste</td>\n",
       "      <td>Ajinkya Dhariya</td>\n",
       "      <td>Venture Center</td>\n",
       "      <td>NaN</td>\n",
       "      <td>Pre-seed</td>\n",
       "      <td>None</td>\n",
       "    </tr>\n",
       "    <tr>\n",
       "      <th>3</th>\n",
       "      <td>NCOME</td>\n",
       "      <td>2020.0</td>\n",
       "      <td>New Delhi</td>\n",
       "      <td>Escrow</td>\n",
       "      <td>Escrow-as-a-service platform</td>\n",
       "      <td>Ritesh Tiwari</td>\n",
       "      <td>Venture Catalysts, PointOne Capital</td>\n",
       "      <td>400000.0</td>\n",
       "      <td>None</td>\n",
       "      <td>None</td>\n",
       "    </tr>\n",
       "    <tr>\n",
       "      <th>4</th>\n",
       "      <td>Gramophone</td>\n",
       "      <td>2016.0</td>\n",
       "      <td>Indore</td>\n",
       "      <td>AgriTech</td>\n",
       "      <td>Gramophone is an AgTech platform enabling acce...</td>\n",
       "      <td>Ashish Rajan Singh, Harshit Gupta, Nishant Mah...</td>\n",
       "      <td>Siana Capital Management, Info Edge</td>\n",
       "      <td>340000.0</td>\n",
       "      <td>None</td>\n",
       "      <td>None</td>\n",
       "    </tr>\n",
       "  </tbody>\n",
       "</table>\n",
       "</div>"
      ],
      "text/plain": [
       "  Company_Brand  Founded HeadQuarter              Sector  \\\n",
       "0    Aqgromalin   2019.0     Chennai            AgriTech   \n",
       "1      Krayonnz   2019.0   Bangalore              EdTech   \n",
       "2  PadCare Labs   2018.0        Pune  Hygiene management   \n",
       "3         NCOME   2020.0   New Delhi              Escrow   \n",
       "4    Gramophone   2016.0      Indore            AgriTech   \n",
       "\n",
       "                                        What_it_does  \\\n",
       "0                       Cultivating Ideas for Profit   \n",
       "1  An academy-guardian-scholar centric ecosystem ...   \n",
       "2   Converting bio-hazardous waste to harmless waste   \n",
       "3                       Escrow-as-a-service platform   \n",
       "4  Gramophone is an AgTech platform enabling acce...   \n",
       "\n",
       "                                            Founders  \\\n",
       "0                    Prasanna Manogaran, Bharani C L   \n",
       "1                   Saurabh Dixit, Gurudutt Upadhyay   \n",
       "2                                    Ajinkya Dhariya   \n",
       "3                                      Ritesh Tiwari   \n",
       "4  Ashish Rajan Singh, Harshit Gupta, Nishant Mah...   \n",
       "\n",
       "                              Investor    Amount     Stage column10  \n",
       "0                      Angel investors  200000.0      None     None  \n",
       "1                      GSF Accelerator  100000.0  Pre-seed     None  \n",
       "2                       Venture Center       NaN  Pre-seed     None  \n",
       "3  Venture Catalysts, PointOne Capital  400000.0      None     None  \n",
       "4  Siana Capital Management, Info Edge  340000.0      None     None  "
      ]
     },
     "execution_count": 6,
     "metadata": {},
     "output_type": "execute_result"
    }
   ],
   "source": [
    "# Call DataFrame to understand DataFrame details for 2020\n",
    "query= \"SELECT * FROM dbo.LP1_startup_funding2020\"\n",
    "data_2020 =pd.read_sql(query, connection)\n",
    "\n",
    "data_2020.head()\n",
    "\n"
   ]
  },
  {
   "cell_type": "markdown",
   "metadata": {},
   "source": [
    "#### Data_2021"
   ]
  },
  {
   "cell_type": "code",
   "execution_count": 7,
   "metadata": {},
   "outputs": [
    {
     "data": {
      "text/html": [
       "<div>\n",
       "<style scoped>\n",
       "    .dataframe tbody tr th:only-of-type {\n",
       "        vertical-align: middle;\n",
       "    }\n",
       "\n",
       "    .dataframe tbody tr th {\n",
       "        vertical-align: top;\n",
       "    }\n",
       "\n",
       "    .dataframe thead th {\n",
       "        text-align: right;\n",
       "    }\n",
       "</style>\n",
       "<table border=\"1\" class=\"dataframe\">\n",
       "  <thead>\n",
       "    <tr style=\"text-align: right;\">\n",
       "      <th></th>\n",
       "      <th>Company_Brand</th>\n",
       "      <th>Founded</th>\n",
       "      <th>HeadQuarter</th>\n",
       "      <th>Sector</th>\n",
       "      <th>What_it_does</th>\n",
       "      <th>Founders</th>\n",
       "      <th>Investor</th>\n",
       "      <th>Amount</th>\n",
       "      <th>Stage</th>\n",
       "    </tr>\n",
       "  </thead>\n",
       "  <tbody>\n",
       "    <tr>\n",
       "      <th>0</th>\n",
       "      <td>Unbox Robotics</td>\n",
       "      <td>2019.0</td>\n",
       "      <td>Bangalore</td>\n",
       "      <td>AI startup</td>\n",
       "      <td>Unbox Robotics builds on-demand AI-driven ware...</td>\n",
       "      <td>Pramod Ghadge, Shahid Memon</td>\n",
       "      <td>BEENEXT, Entrepreneur First</td>\n",
       "      <td>$1,200,000</td>\n",
       "      <td>Pre-series A</td>\n",
       "    </tr>\n",
       "    <tr>\n",
       "      <th>1</th>\n",
       "      <td>upGrad</td>\n",
       "      <td>2015.0</td>\n",
       "      <td>Mumbai</td>\n",
       "      <td>EdTech</td>\n",
       "      <td>UpGrad is an online higher education platform.</td>\n",
       "      <td>Mayank Kumar, Phalgun Kompalli, Ravijot Chugh,...</td>\n",
       "      <td>Unilazer Ventures, IIFL Asset Management</td>\n",
       "      <td>$120,000,000</td>\n",
       "      <td>None</td>\n",
       "    </tr>\n",
       "    <tr>\n",
       "      <th>2</th>\n",
       "      <td>Lead School</td>\n",
       "      <td>2012.0</td>\n",
       "      <td>Mumbai</td>\n",
       "      <td>EdTech</td>\n",
       "      <td>LEAD School offers technology based school tra...</td>\n",
       "      <td>Smita Deorah, Sumeet Mehta</td>\n",
       "      <td>GSV Ventures, Westbridge Capital</td>\n",
       "      <td>$30,000,000</td>\n",
       "      <td>Series D</td>\n",
       "    </tr>\n",
       "    <tr>\n",
       "      <th>3</th>\n",
       "      <td>Bizongo</td>\n",
       "      <td>2015.0</td>\n",
       "      <td>Mumbai</td>\n",
       "      <td>B2B E-commerce</td>\n",
       "      <td>Bizongo is a business-to-business online marke...</td>\n",
       "      <td>Aniket Deb, Ankit Tomar, Sachin Agrawal</td>\n",
       "      <td>CDC Group, IDG Capital</td>\n",
       "      <td>$51,000,000</td>\n",
       "      <td>Series C</td>\n",
       "    </tr>\n",
       "    <tr>\n",
       "      <th>4</th>\n",
       "      <td>FypMoney</td>\n",
       "      <td>2021.0</td>\n",
       "      <td>Gurugram</td>\n",
       "      <td>FinTech</td>\n",
       "      <td>FypMoney is Digital NEO Bank for Teenagers, em...</td>\n",
       "      <td>Kapil Banwari</td>\n",
       "      <td>Liberatha Kallat, Mukesh Yadav, Dinesh Nagpal</td>\n",
       "      <td>$2,000,000</td>\n",
       "      <td>Seed</td>\n",
       "    </tr>\n",
       "  </tbody>\n",
       "</table>\n",
       "</div>"
      ],
      "text/plain": [
       "    Company_Brand  Founded HeadQuarter          Sector  \\\n",
       "0  Unbox Robotics   2019.0   Bangalore      AI startup   \n",
       "1          upGrad   2015.0      Mumbai          EdTech   \n",
       "2     Lead School   2012.0      Mumbai          EdTech   \n",
       "3         Bizongo   2015.0      Mumbai  B2B E-commerce   \n",
       "4        FypMoney   2021.0    Gurugram         FinTech   \n",
       "\n",
       "                                        What_it_does  \\\n",
       "0  Unbox Robotics builds on-demand AI-driven ware...   \n",
       "1     UpGrad is an online higher education platform.   \n",
       "2  LEAD School offers technology based school tra...   \n",
       "3  Bizongo is a business-to-business online marke...   \n",
       "4  FypMoney is Digital NEO Bank for Teenagers, em...   \n",
       "\n",
       "                                            Founders  \\\n",
       "0                        Pramod Ghadge, Shahid Memon   \n",
       "1  Mayank Kumar, Phalgun Kompalli, Ravijot Chugh,...   \n",
       "2                         Smita Deorah, Sumeet Mehta   \n",
       "3            Aniket Deb, Ankit Tomar, Sachin Agrawal   \n",
       "4                                      Kapil Banwari   \n",
       "\n",
       "                                        Investor        Amount         Stage  \n",
       "0                    BEENEXT, Entrepreneur First    $1,200,000  Pre-series A  \n",
       "1       Unilazer Ventures, IIFL Asset Management  $120,000,000          None  \n",
       "2               GSV Ventures, Westbridge Capital   $30,000,000      Series D  \n",
       "3                         CDC Group, IDG Capital   $51,000,000      Series C  \n",
       "4  Liberatha Kallat, Mukesh Yadav, Dinesh Nagpal    $2,000,000          Seed  "
      ]
     },
     "execution_count": 7,
     "metadata": {},
     "output_type": "execute_result"
    }
   ],
   "source": [
    "# Call DataFrame to understand DataFrame details for 2021.\n",
    "query= \"SELECT * FROM dbo.LP1_startup_funding2021\"\n",
    "data_2021 =pd.read_sql(query, connection)\n",
    "\n",
    "data_2021.head()"
   ]
  },
  {
   "cell_type": "markdown",
   "metadata": {},
   "source": [
    "#### Data_2019 "
   ]
  },
  {
   "cell_type": "markdown",
   "metadata": {},
   "source": [
    "#### Load csv data from other sources for analysis"
   ]
  },
  {
   "cell_type": "code",
   "execution_count": 8,
   "metadata": {},
   "outputs": [
    {
     "data": {
      "text/html": [
       "<div>\n",
       "<style scoped>\n",
       "    .dataframe tbody tr th:only-of-type {\n",
       "        vertical-align: middle;\n",
       "    }\n",
       "\n",
       "    .dataframe tbody tr th {\n",
       "        vertical-align: top;\n",
       "    }\n",
       "\n",
       "    .dataframe thead th {\n",
       "        text-align: right;\n",
       "    }\n",
       "</style>\n",
       "<table border=\"1\" class=\"dataframe\">\n",
       "  <thead>\n",
       "    <tr style=\"text-align: right;\">\n",
       "      <th></th>\n",
       "      <th>ï»¿Company/Brand</th>\n",
       "      <th>Founded</th>\n",
       "      <th>HeadQuarter</th>\n",
       "      <th>Sector</th>\n",
       "      <th>What it does</th>\n",
       "      <th>Founders</th>\n",
       "      <th>Investor</th>\n",
       "      <th>Amount($)</th>\n",
       "      <th>Stage</th>\n",
       "    </tr>\n",
       "  </thead>\n",
       "  <tbody>\n",
       "    <tr>\n",
       "      <th>0</th>\n",
       "      <td>Bombay Shaving</td>\n",
       "      <td>NaN</td>\n",
       "      <td>NaN</td>\n",
       "      <td>Ecommerce</td>\n",
       "      <td>Provides a range of male grooming products</td>\n",
       "      <td>Shantanu Deshpande</td>\n",
       "      <td>Sixth Sense Ventures</td>\n",
       "      <td>$6,300,000</td>\n",
       "      <td>NaN</td>\n",
       "    </tr>\n",
       "    <tr>\n",
       "      <th>1</th>\n",
       "      <td>Ruangguru</td>\n",
       "      <td>2014.0</td>\n",
       "      <td>Mumbai</td>\n",
       "      <td>Edtech</td>\n",
       "      <td>A learning platform that provides topic-based ...</td>\n",
       "      <td>Adamas Belva Syah Devara, Iman Usman.</td>\n",
       "      <td>General Atlantic</td>\n",
       "      <td>$150,000,000</td>\n",
       "      <td>Series C</td>\n",
       "    </tr>\n",
       "    <tr>\n",
       "      <th>2</th>\n",
       "      <td>Eduisfun</td>\n",
       "      <td>NaN</td>\n",
       "      <td>Mumbai</td>\n",
       "      <td>Edtech</td>\n",
       "      <td>It aims to make learning fun via games.</td>\n",
       "      <td>Jatin Solanki</td>\n",
       "      <td>Deepak Parekh, Amitabh Bachchan, Piyush Pandey</td>\n",
       "      <td>$28,000,000</td>\n",
       "      <td>Fresh funding</td>\n",
       "    </tr>\n",
       "    <tr>\n",
       "      <th>3</th>\n",
       "      <td>HomeLane</td>\n",
       "      <td>2014.0</td>\n",
       "      <td>Chennai</td>\n",
       "      <td>Interior design</td>\n",
       "      <td>Provides interior designing solutions</td>\n",
       "      <td>Srikanth Iyer, Rama Harinath</td>\n",
       "      <td>Evolvence India Fund (EIF), Pidilite Group, FJ...</td>\n",
       "      <td>$30,000,000</td>\n",
       "      <td>Series D</td>\n",
       "    </tr>\n",
       "    <tr>\n",
       "      <th>4</th>\n",
       "      <td>Nu Genes</td>\n",
       "      <td>2004.0</td>\n",
       "      <td>Telangana</td>\n",
       "      <td>AgriTech</td>\n",
       "      <td>It is a seed company engaged in production, pr...</td>\n",
       "      <td>Narayana Reddy Punyala</td>\n",
       "      <td>Innovation in Food and Agriculture (IFA)</td>\n",
       "      <td>$6,000,000</td>\n",
       "      <td>NaN</td>\n",
       "    </tr>\n",
       "  </tbody>\n",
       "</table>\n",
       "</div>"
      ],
      "text/plain": [
       "  ï»¿Company/Brand  Founded HeadQuarter           Sector  \\\n",
       "0   Bombay Shaving      NaN         NaN        Ecommerce   \n",
       "1        Ruangguru   2014.0      Mumbai           Edtech   \n",
       "2         Eduisfun      NaN      Mumbai           Edtech   \n",
       "3         HomeLane   2014.0     Chennai  Interior design   \n",
       "4         Nu Genes   2004.0   Telangana         AgriTech   \n",
       "\n",
       "                                        What it does  \\\n",
       "0         Provides a range of male grooming products   \n",
       "1  A learning platform that provides topic-based ...   \n",
       "2            It aims to make learning fun via games.   \n",
       "3              Provides interior designing solutions   \n",
       "4  It is a seed company engaged in production, pr...   \n",
       "\n",
       "                                Founders  \\\n",
       "0                     Shantanu Deshpande   \n",
       "1  Adamas Belva Syah Devara, Iman Usman.   \n",
       "2                          Jatin Solanki   \n",
       "3           Srikanth Iyer, Rama Harinath   \n",
       "4                 Narayana Reddy Punyala   \n",
       "\n",
       "                                            Investor     Amount($)  \\\n",
       "0                               Sixth Sense Ventures    $6,300,000   \n",
       "1                                   General Atlantic  $150,000,000   \n",
       "2     Deepak Parekh, Amitabh Bachchan, Piyush Pandey   $28,000,000   \n",
       "3  Evolvence India Fund (EIF), Pidilite Group, FJ...   $30,000,000   \n",
       "4           Innovation in Food and Agriculture (IFA)    $6,000,000   \n",
       "\n",
       "           Stage  \n",
       "0            NaN  \n",
       "1       Series C  \n",
       "2  Fresh funding  \n",
       "3       Series D  \n",
       "4            NaN  "
      ]
     },
     "execution_count": 8,
     "metadata": {},
     "output_type": "execute_result"
    }
   ],
   "source": [
    "# Read 2019 DataFrame to understand data structure.\n",
    "data_2019=pd.read_csv('startup_funding2019.csv',encoding='latin-1')\n",
    "\n",
    "data_2019.head(5)"
   ]
  },
  {
   "cell_type": "markdown",
   "metadata": {},
   "source": [
    "#### Data_2018 "
   ]
  },
  {
   "cell_type": "code",
   "execution_count": 9,
   "metadata": {},
   "outputs": [
    {
     "data": {
      "text/html": [
       "<div>\n",
       "<style scoped>\n",
       "    .dataframe tbody tr th:only-of-type {\n",
       "        vertical-align: middle;\n",
       "    }\n",
       "\n",
       "    .dataframe tbody tr th {\n",
       "        vertical-align: top;\n",
       "    }\n",
       "\n",
       "    .dataframe thead th {\n",
       "        text-align: right;\n",
       "    }\n",
       "</style>\n",
       "<table border=\"1\" class=\"dataframe\">\n",
       "  <thead>\n",
       "    <tr style=\"text-align: right;\">\n",
       "      <th></th>\n",
       "      <th>Company Name</th>\n",
       "      <th>Industry</th>\n",
       "      <th>Round/Series</th>\n",
       "      <th>Amount</th>\n",
       "      <th>Location</th>\n",
       "      <th>About Company</th>\n",
       "    </tr>\n",
       "  </thead>\n",
       "  <tbody>\n",
       "    <tr>\n",
       "      <th>0</th>\n",
       "      <td>TheCollegeFever</td>\n",
       "      <td>Brand Marketing, Event Promotion, Marketing, S...</td>\n",
       "      <td>Seed</td>\n",
       "      <td>250000</td>\n",
       "      <td>Bangalore, Karnataka, India</td>\n",
       "      <td>TheCollegeFever is a hub for fun, fiesta and f...</td>\n",
       "    </tr>\n",
       "    <tr>\n",
       "      <th>1</th>\n",
       "      <td>Happy Cow Dairy</td>\n",
       "      <td>Agriculture, Farming</td>\n",
       "      <td>Seed</td>\n",
       "      <td>₹40,000,000</td>\n",
       "      <td>Mumbai, Maharashtra, India</td>\n",
       "      <td>A startup which aggregates milk from dairy far...</td>\n",
       "    </tr>\n",
       "    <tr>\n",
       "      <th>2</th>\n",
       "      <td>MyLoanCare</td>\n",
       "      <td>Credit, Financial Services, Lending, Marketplace</td>\n",
       "      <td>Series A</td>\n",
       "      <td>₹65,000,000</td>\n",
       "      <td>Gurgaon, Haryana, India</td>\n",
       "      <td>Leading Online Loans Marketplace in India</td>\n",
       "    </tr>\n",
       "    <tr>\n",
       "      <th>3</th>\n",
       "      <td>PayMe India</td>\n",
       "      <td>Financial Services, FinTech</td>\n",
       "      <td>Angel</td>\n",
       "      <td>2000000</td>\n",
       "      <td>Noida, Uttar Pradesh, India</td>\n",
       "      <td>PayMe India is an innovative FinTech organizat...</td>\n",
       "    </tr>\n",
       "    <tr>\n",
       "      <th>4</th>\n",
       "      <td>Eunimart</td>\n",
       "      <td>E-Commerce Platforms, Retail, SaaS</td>\n",
       "      <td>Seed</td>\n",
       "      <td>—</td>\n",
       "      <td>Hyderabad, Andhra Pradesh, India</td>\n",
       "      <td>Eunimart is a one stop solution for merchants ...</td>\n",
       "    </tr>\n",
       "  </tbody>\n",
       "</table>\n",
       "</div>"
      ],
      "text/plain": [
       "      Company Name                                           Industry  \\\n",
       "0  TheCollegeFever  Brand Marketing, Event Promotion, Marketing, S...   \n",
       "1  Happy Cow Dairy                               Agriculture, Farming   \n",
       "2       MyLoanCare   Credit, Financial Services, Lending, Marketplace   \n",
       "3      PayMe India                        Financial Services, FinTech   \n",
       "4         Eunimart                 E-Commerce Platforms, Retail, SaaS   \n",
       "\n",
       "  Round/Series       Amount                          Location  \\\n",
       "0         Seed       250000       Bangalore, Karnataka, India   \n",
       "1         Seed  ₹40,000,000        Mumbai, Maharashtra, India   \n",
       "2     Series A  ₹65,000,000           Gurgaon, Haryana, India   \n",
       "3        Angel      2000000       Noida, Uttar Pradesh, India   \n",
       "4         Seed            —  Hyderabad, Andhra Pradesh, India   \n",
       "\n",
       "                                       About Company  \n",
       "0  TheCollegeFever is a hub for fun, fiesta and f...  \n",
       "1  A startup which aggregates milk from dairy far...  \n",
       "2          Leading Online Loans Marketplace in India  \n",
       "3  PayMe India is an innovative FinTech organizat...  \n",
       "4  Eunimart is a one stop solution for merchants ...  "
      ]
     },
     "execution_count": 9,
     "metadata": {},
     "output_type": "execute_result"
    }
   ],
   "source": [
    "# Fetching 2018 data\n",
    "url = \"https://raw.github.com/Azubi-Africa/Career_Accelerator_LP1-Data_Analysis/master/startup_funding2018.csv\"\n",
    "download = requests.get(url).content\n",
    " \n",
    " \n",
    "data_2018 = pd.read_csv(io.StringIO(download.decode('utf-8')))\n",
    " \n",
    "data_2018.head(5)"
   ]
  },
  {
   "cell_type": "markdown",
   "metadata": {},
   "source": [
    "#### Print Column Names for Comparison"
   ]
  },
  {
   "cell_type": "code",
   "execution_count": 10,
   "metadata": {},
   "outputs": [
    {
     "name": "stdout",
     "output_type": "stream",
     "text": [
      "Column names in data_2018:\n",
      "Index(['Company Name', 'Industry', 'Round/Series', 'Amount', 'Location',\n",
      "       'About Company'],\n",
      "      dtype='object')\n",
      "\n",
      "\n",
      "Column names in data_2019:\n",
      "Index(['ï»¿Company/Brand', 'Founded', 'HeadQuarter', 'Sector', 'What it does',\n",
      "       'Founders', 'Investor', 'Amount($)', 'Stage'],\n",
      "      dtype='object')\n",
      "\n",
      "\n",
      "Column names in data_2020:\n",
      "Index(['Company_Brand', 'Founded', 'HeadQuarter', 'Sector', 'What_it_does',\n",
      "       'Founders', 'Investor', 'Amount', 'Stage', 'column10'],\n",
      "      dtype='object')\n",
      "\n",
      "\n",
      "Column names in data_2021:\n",
      "Index(['Company_Brand', 'Founded', 'HeadQuarter', 'Sector', 'What_it_does',\n",
      "       'Founders', 'Investor', 'Amount', 'Stage'],\n",
      "      dtype='object')\n",
      "\n",
      "\n"
     ]
    }
   ],
   "source": [
    "# Print column names for comparison\n",
    "print(\"Column names in data_2018:\")\n",
    "print(data_2018.columns)\n",
    "print(\"\\n\")\n",
    "\n",
    "# Column names for data_2019\n",
    "print(\"Column names in data_2019:\")\n",
    "print(data_2019.columns)\n",
    "print(\"\\n\")\n",
    "\n",
    "# Column names for data_2020\n",
    "print(\"Column names in data_2020:\")\n",
    "print(data_2020.columns)\n",
    "print(\"\\n\")\n",
    "\n",
    "# Column names for data_2021\n",
    "print(\"Column names in data_2021:\")\n",
    "print(data_2021.columns)\n",
    "print(\"\\n\")"
   ]
  },
  {
   "cell_type": "markdown",
   "metadata": {},
   "source": [
    "Observations\n",
    "1. **Inconsistency in Column Names**\n",
    "2018 dataset has different column names compared to the rest of the datasets.\n",
    "\n",
    "2. **Variations in Column Names**\n",
    "The same type of information is represented by different column names across years (e.g., 'Company Name', 'Company/Brand', 'Company_Brand').\n",
    "\n",
    "3. **Unique Columns**\n",
    "Some years have unique columns not present in other years, which may complicate direct merging.\n",
    "\n",
    "*This will be addressed by Standardizing column names across all datasets, align similar columns to a standard name for consistency and unique columns based on their importance and relevance will be handled while irrelevant columns will be dropped.*\n"
   ]
  },
  {
   "cell_type": "markdown",
   "metadata": {},
   "source": [
    "#### Column renaming for consistency and merging"
   ]
  },
  {
   "cell_type": "code",
   "execution_count": 11,
   "metadata": {},
   "outputs": [
    {
     "data": {
      "text/html": [
       "<div>\n",
       "<style scoped>\n",
       "    .dataframe tbody tr th:only-of-type {\n",
       "        vertical-align: middle;\n",
       "    }\n",
       "\n",
       "    .dataframe tbody tr th {\n",
       "        vertical-align: top;\n",
       "    }\n",
       "\n",
       "    .dataframe thead th {\n",
       "        text-align: right;\n",
       "    }\n",
       "</style>\n",
       "<table border=\"1\" class=\"dataframe\">\n",
       "  <thead>\n",
       "    <tr style=\"text-align: right;\">\n",
       "      <th></th>\n",
       "      <th>company_name</th>\n",
       "      <th>sector</th>\n",
       "      <th>stage</th>\n",
       "      <th>Amount</th>\n",
       "      <th>location</th>\n",
       "      <th>description</th>\n",
       "      <th>ï»¿Company/Brand</th>\n",
       "      <th>Founded</th>\n",
       "      <th>Founders</th>\n",
       "      <th>Investor</th>\n",
       "      <th>Stage</th>\n",
       "      <th>HeadQuarter</th>\n",
       "      <th>Sector</th>\n",
       "      <th>column10</th>\n",
       "    </tr>\n",
       "  </thead>\n",
       "  <tbody>\n",
       "    <tr>\n",
       "      <th>0</th>\n",
       "      <td>TheCollegeFever</td>\n",
       "      <td>Brand Marketing, Event Promotion, Marketing, S...</td>\n",
       "      <td>Seed</td>\n",
       "      <td>250000</td>\n",
       "      <td>Bangalore, Karnataka, India</td>\n",
       "      <td>TheCollegeFever is a hub for fun, fiesta and f...</td>\n",
       "      <td>NaN</td>\n",
       "      <td>NaN</td>\n",
       "      <td>NaN</td>\n",
       "      <td>NaN</td>\n",
       "      <td>NaN</td>\n",
       "      <td>NaN</td>\n",
       "      <td>NaN</td>\n",
       "      <td>NaN</td>\n",
       "    </tr>\n",
       "    <tr>\n",
       "      <th>1</th>\n",
       "      <td>Happy Cow Dairy</td>\n",
       "      <td>Agriculture, Farming</td>\n",
       "      <td>Seed</td>\n",
       "      <td>₹40,000,000</td>\n",
       "      <td>Mumbai, Maharashtra, India</td>\n",
       "      <td>A startup which aggregates milk from dairy far...</td>\n",
       "      <td>NaN</td>\n",
       "      <td>NaN</td>\n",
       "      <td>NaN</td>\n",
       "      <td>NaN</td>\n",
       "      <td>NaN</td>\n",
       "      <td>NaN</td>\n",
       "      <td>NaN</td>\n",
       "      <td>NaN</td>\n",
       "    </tr>\n",
       "    <tr>\n",
       "      <th>2</th>\n",
       "      <td>MyLoanCare</td>\n",
       "      <td>Credit, Financial Services, Lending, Marketplace</td>\n",
       "      <td>Series A</td>\n",
       "      <td>₹65,000,000</td>\n",
       "      <td>Gurgaon, Haryana, India</td>\n",
       "      <td>Leading Online Loans Marketplace in India</td>\n",
       "      <td>NaN</td>\n",
       "      <td>NaN</td>\n",
       "      <td>NaN</td>\n",
       "      <td>NaN</td>\n",
       "      <td>NaN</td>\n",
       "      <td>NaN</td>\n",
       "      <td>NaN</td>\n",
       "      <td>NaN</td>\n",
       "    </tr>\n",
       "    <tr>\n",
       "      <th>3</th>\n",
       "      <td>PayMe India</td>\n",
       "      <td>Financial Services, FinTech</td>\n",
       "      <td>Angel</td>\n",
       "      <td>2000000</td>\n",
       "      <td>Noida, Uttar Pradesh, India</td>\n",
       "      <td>PayMe India is an innovative FinTech organizat...</td>\n",
       "      <td>NaN</td>\n",
       "      <td>NaN</td>\n",
       "      <td>NaN</td>\n",
       "      <td>NaN</td>\n",
       "      <td>NaN</td>\n",
       "      <td>NaN</td>\n",
       "      <td>NaN</td>\n",
       "      <td>NaN</td>\n",
       "    </tr>\n",
       "    <tr>\n",
       "      <th>4</th>\n",
       "      <td>Eunimart</td>\n",
       "      <td>E-Commerce Platforms, Retail, SaaS</td>\n",
       "      <td>Seed</td>\n",
       "      <td>—</td>\n",
       "      <td>Hyderabad, Andhra Pradesh, India</td>\n",
       "      <td>Eunimart is a one stop solution for merchants ...</td>\n",
       "      <td>NaN</td>\n",
       "      <td>NaN</td>\n",
       "      <td>NaN</td>\n",
       "      <td>NaN</td>\n",
       "      <td>NaN</td>\n",
       "      <td>NaN</td>\n",
       "      <td>NaN</td>\n",
       "      <td>NaN</td>\n",
       "    </tr>\n",
       "  </tbody>\n",
       "</table>\n",
       "</div>"
      ],
      "text/plain": [
       "      company_name                                             sector  \\\n",
       "0  TheCollegeFever  Brand Marketing, Event Promotion, Marketing, S...   \n",
       "1  Happy Cow Dairy                               Agriculture, Farming   \n",
       "2       MyLoanCare   Credit, Financial Services, Lending, Marketplace   \n",
       "3      PayMe India                        Financial Services, FinTech   \n",
       "4         Eunimart                 E-Commerce Platforms, Retail, SaaS   \n",
       "\n",
       "      stage       Amount                          location  \\\n",
       "0      Seed       250000       Bangalore, Karnataka, India   \n",
       "1      Seed  ₹40,000,000        Mumbai, Maharashtra, India   \n",
       "2  Series A  ₹65,000,000           Gurgaon, Haryana, India   \n",
       "3     Angel      2000000       Noida, Uttar Pradesh, India   \n",
       "4      Seed            —  Hyderabad, Andhra Pradesh, India   \n",
       "\n",
       "                                         description ï»¿Company/Brand  \\\n",
       "0  TheCollegeFever is a hub for fun, fiesta and f...              NaN   \n",
       "1  A startup which aggregates milk from dairy far...              NaN   \n",
       "2          Leading Online Loans Marketplace in India              NaN   \n",
       "3  PayMe India is an innovative FinTech organizat...              NaN   \n",
       "4  Eunimart is a one stop solution for merchants ...              NaN   \n",
       "\n",
       "   Founded Founders Investor Stage HeadQuarter Sector column10  \n",
       "0      NaN      NaN      NaN   NaN         NaN    NaN      NaN  \n",
       "1      NaN      NaN      NaN   NaN         NaN    NaN      NaN  \n",
       "2      NaN      NaN      NaN   NaN         NaN    NaN      NaN  \n",
       "3      NaN      NaN      NaN   NaN         NaN    NaN      NaN  \n",
       "4      NaN      NaN      NaN   NaN         NaN    NaN      NaN  "
      ]
     },
     "execution_count": 11,
     "metadata": {},
     "output_type": "execute_result"
    }
   ],
   "source": [
    "# Rename columns in each dataset\n",
    "data_2018.rename(columns={\n",
    "    'Company Name': 'company_name',\n",
    "    'Industry': 'sector',\n",
    "    'Round/Series': 'stage',\n",
    "    'Amount': 'Amount',\n",
    "    'Location': 'location',\n",
    "    'About Company': 'description'\n",
    "}, inplace=True)\n",
    "\n",
    "# 2019 column mapping\n",
    "data_2019.rename(columns={\n",
    "    'Company/Brand': 'company_name',\n",
    "    'HeadQuarter': 'location',\n",
    "    'Sector': 'sector',\n",
    "    'What it does': 'description',\n",
    "    'Amount($)': 'Amount'\n",
    "}, inplace=True)\n",
    "\n",
    "# 2020 column mapping\n",
    "data_2020.rename(columns={\n",
    "    'Company_Brand': 'company_name',\n",
    "    'What_it_does': 'description',\n",
    "    'Amount': 'Amount'\n",
    "}, inplace=True)\n",
    "\n",
    "# 2021 column mapping\n",
    "data_2021.rename(columns={\n",
    "    'Company_Brand': 'company_name',\n",
    "    'What_it_does': 'description',\n",
    "    'Amount': 'Amount'\n",
    "}, inplace=True)\n",
    "\n",
    "# Merge datasets using the standardized column names\n",
    "merged_data = pd.concat([data_2018, data_2019, data_2020, data_2021], ignore_index=True)\n",
    "\n",
    "merged_data.head(5)\n"
   ]
  },
  {
   "cell_type": "markdown",
   "metadata": {},
   "source": [
    "#### Create Year column for time series analysis"
   ]
  },
  {
   "cell_type": "code",
   "execution_count": 12,
   "metadata": {},
   "outputs": [],
   "source": [
    "# Create a list of years corresponding to each dataset\n",
    "years = [2018, 2019, 2020, 2021]\n",
    "\n",
    "# Create a new column 'Year' and assign the respective year to each dataset\n",
    "merged_data['Year'] = pd.concat([data.assign(Year=year) for data, year in zip([data_2018, data_2019, data_2020, data_2021], years)], ignore_index=True)['Year']\n",
    "\n",
    "# Now the merged_data DataFrame will have a new column 'Year' with respective years assigned to each dataset\n"
   ]
  },
  {
   "cell_type": "markdown",
   "metadata": {},
   "source": [
    "#### Merge columns with same value characteristics and droped the HQ Sector and Stage"
   ]
  },
  {
   "cell_type": "code",
   "execution_count": 13,
   "metadata": {},
   "outputs": [],
   "source": [
    "# Merge 'location' and 'HeadQuarter' columns into a single 'location' column\n",
    "merged_data['location'] = merged_data['location'].combine_first(merged_data['HeadQuarter'])\n",
    "\n",
    "# Merge 'industry' and 'Sector' columns into a single 'industry' column\n",
    "merged_data['sector'] = merged_data['sector'].combine_first(merged_data['Sector'])\n",
    "\n",
    "# Merge 'Stage' and 'stage' columns into a single 'stage' column\n",
    "merged_data['stage'] = merged_data['Stage'].combine_first(merged_data['stage'])\n",
    "\n",
    "# Drop the original columns\n",
    "merged_data.drop(columns=['HeadQuarter', 'Sector', 'Stage'], inplace=True)\n",
    "\n"
   ]
  },
  {
   "cell_type": "markdown",
   "metadata": {},
   "source": [
    "####  Year column"
   ]
  },
  {
   "cell_type": "code",
   "execution_count": 14,
   "metadata": {},
   "outputs": [
    {
     "data": {
      "text/html": [
       "<div>\n",
       "<style scoped>\n",
       "    .dataframe tbody tr th:only-of-type {\n",
       "        vertical-align: middle;\n",
       "    }\n",
       "\n",
       "    .dataframe tbody tr th {\n",
       "        vertical-align: top;\n",
       "    }\n",
       "\n",
       "    .dataframe thead th {\n",
       "        text-align: right;\n",
       "    }\n",
       "</style>\n",
       "<table border=\"1\" class=\"dataframe\">\n",
       "  <thead>\n",
       "    <tr style=\"text-align: right;\">\n",
       "      <th></th>\n",
       "      <th>company_name</th>\n",
       "      <th>sector</th>\n",
       "      <th>stage</th>\n",
       "      <th>Amount</th>\n",
       "      <th>location</th>\n",
       "      <th>description</th>\n",
       "      <th>ï»¿Company/Brand</th>\n",
       "      <th>Founded</th>\n",
       "      <th>Founders</th>\n",
       "      <th>Investor</th>\n",
       "      <th>column10</th>\n",
       "      <th>Year</th>\n",
       "    </tr>\n",
       "  </thead>\n",
       "  <tbody>\n",
       "    <tr>\n",
       "      <th>0</th>\n",
       "      <td>TheCollegeFever</td>\n",
       "      <td>Brand Marketing, Event Promotion, Marketing, S...</td>\n",
       "      <td>Seed</td>\n",
       "      <td>250000</td>\n",
       "      <td>Bangalore, Karnataka, India</td>\n",
       "      <td>TheCollegeFever is a hub for fun, fiesta and f...</td>\n",
       "      <td>NaN</td>\n",
       "      <td>NaN</td>\n",
       "      <td>NaN</td>\n",
       "      <td>NaN</td>\n",
       "      <td>NaN</td>\n",
       "      <td>2018</td>\n",
       "    </tr>\n",
       "    <tr>\n",
       "      <th>1</th>\n",
       "      <td>Happy Cow Dairy</td>\n",
       "      <td>Agriculture, Farming</td>\n",
       "      <td>Seed</td>\n",
       "      <td>₹40,000,000</td>\n",
       "      <td>Mumbai, Maharashtra, India</td>\n",
       "      <td>A startup which aggregates milk from dairy far...</td>\n",
       "      <td>NaN</td>\n",
       "      <td>NaN</td>\n",
       "      <td>NaN</td>\n",
       "      <td>NaN</td>\n",
       "      <td>NaN</td>\n",
       "      <td>2018</td>\n",
       "    </tr>\n",
       "    <tr>\n",
       "      <th>2</th>\n",
       "      <td>MyLoanCare</td>\n",
       "      <td>Credit, Financial Services, Lending, Marketplace</td>\n",
       "      <td>Series A</td>\n",
       "      <td>₹65,000,000</td>\n",
       "      <td>Gurgaon, Haryana, India</td>\n",
       "      <td>Leading Online Loans Marketplace in India</td>\n",
       "      <td>NaN</td>\n",
       "      <td>NaN</td>\n",
       "      <td>NaN</td>\n",
       "      <td>NaN</td>\n",
       "      <td>NaN</td>\n",
       "      <td>2018</td>\n",
       "    </tr>\n",
       "    <tr>\n",
       "      <th>3</th>\n",
       "      <td>PayMe India</td>\n",
       "      <td>Financial Services, FinTech</td>\n",
       "      <td>Angel</td>\n",
       "      <td>2000000</td>\n",
       "      <td>Noida, Uttar Pradesh, India</td>\n",
       "      <td>PayMe India is an innovative FinTech organizat...</td>\n",
       "      <td>NaN</td>\n",
       "      <td>NaN</td>\n",
       "      <td>NaN</td>\n",
       "      <td>NaN</td>\n",
       "      <td>NaN</td>\n",
       "      <td>2018</td>\n",
       "    </tr>\n",
       "    <tr>\n",
       "      <th>4</th>\n",
       "      <td>Eunimart</td>\n",
       "      <td>E-Commerce Platforms, Retail, SaaS</td>\n",
       "      <td>Seed</td>\n",
       "      <td>—</td>\n",
       "      <td>Hyderabad, Andhra Pradesh, India</td>\n",
       "      <td>Eunimart is a one stop solution for merchants ...</td>\n",
       "      <td>NaN</td>\n",
       "      <td>NaN</td>\n",
       "      <td>NaN</td>\n",
       "      <td>NaN</td>\n",
       "      <td>NaN</td>\n",
       "      <td>2018</td>\n",
       "    </tr>\n",
       "  </tbody>\n",
       "</table>\n",
       "</div>"
      ],
      "text/plain": [
       "      company_name                                             sector  \\\n",
       "0  TheCollegeFever  Brand Marketing, Event Promotion, Marketing, S...   \n",
       "1  Happy Cow Dairy                               Agriculture, Farming   \n",
       "2       MyLoanCare   Credit, Financial Services, Lending, Marketplace   \n",
       "3      PayMe India                        Financial Services, FinTech   \n",
       "4         Eunimart                 E-Commerce Platforms, Retail, SaaS   \n",
       "\n",
       "      stage       Amount                          location  \\\n",
       "0      Seed       250000       Bangalore, Karnataka, India   \n",
       "1      Seed  ₹40,000,000        Mumbai, Maharashtra, India   \n",
       "2  Series A  ₹65,000,000           Gurgaon, Haryana, India   \n",
       "3     Angel      2000000       Noida, Uttar Pradesh, India   \n",
       "4      Seed            —  Hyderabad, Andhra Pradesh, India   \n",
       "\n",
       "                                         description ï»¿Company/Brand  \\\n",
       "0  TheCollegeFever is a hub for fun, fiesta and f...              NaN   \n",
       "1  A startup which aggregates milk from dairy far...              NaN   \n",
       "2          Leading Online Loans Marketplace in India              NaN   \n",
       "3  PayMe India is an innovative FinTech organizat...              NaN   \n",
       "4  Eunimart is a one stop solution for merchants ...              NaN   \n",
       "\n",
       "   Founded Founders Investor column10  Year  \n",
       "0      NaN      NaN      NaN      NaN  2018  \n",
       "1      NaN      NaN      NaN      NaN  2018  \n",
       "2      NaN      NaN      NaN      NaN  2018  \n",
       "3      NaN      NaN      NaN      NaN  2018  \n",
       "4      NaN      NaN      NaN      NaN  2018  "
      ]
     },
     "execution_count": 14,
     "metadata": {},
     "output_type": "execute_result"
    }
   ],
   "source": [
    "# Print merge_data for verification\n",
    "merged_data.head(5)"
   ]
  },
  {
   "cell_type": "code",
   "execution_count": 15,
   "metadata": {},
   "outputs": [
    {
     "data": {
      "text/html": [
       "<div>\n",
       "<style scoped>\n",
       "    .dataframe tbody tr th:only-of-type {\n",
       "        vertical-align: middle;\n",
       "    }\n",
       "\n",
       "    .dataframe tbody tr th {\n",
       "        vertical-align: top;\n",
       "    }\n",
       "\n",
       "    .dataframe thead th {\n",
       "        text-align: right;\n",
       "    }\n",
       "</style>\n",
       "<table border=\"1\" class=\"dataframe\">\n",
       "  <thead>\n",
       "    <tr style=\"text-align: right;\">\n",
       "      <th></th>\n",
       "      <th>company_name</th>\n",
       "      <th>sector</th>\n",
       "      <th>stage</th>\n",
       "      <th>Amount</th>\n",
       "      <th>location</th>\n",
       "      <th>description</th>\n",
       "      <th>ï»¿Company/Brand</th>\n",
       "      <th>Founded</th>\n",
       "      <th>Founders</th>\n",
       "      <th>Investor</th>\n",
       "      <th>column10</th>\n",
       "      <th>Year</th>\n",
       "    </tr>\n",
       "  </thead>\n",
       "  <tbody>\n",
       "    <tr>\n",
       "      <th>2874</th>\n",
       "      <td>Gigforce</td>\n",
       "      <td>Staffing &amp; Recruiting</td>\n",
       "      <td>Pre-series A</td>\n",
       "      <td>$3000000</td>\n",
       "      <td>Gurugram</td>\n",
       "      <td>A gig/on-demand staffing company.</td>\n",
       "      <td>NaN</td>\n",
       "      <td>2019.0</td>\n",
       "      <td>Chirag Mittal, Anirudh Syal</td>\n",
       "      <td>Endiya Partners</td>\n",
       "      <td>NaN</td>\n",
       "      <td>2021</td>\n",
       "    </tr>\n",
       "    <tr>\n",
       "      <th>2875</th>\n",
       "      <td>Vahdam</td>\n",
       "      <td>Food &amp; Beverages</td>\n",
       "      <td>Series D</td>\n",
       "      <td>$20000000</td>\n",
       "      <td>New Delhi</td>\n",
       "      <td>VAHDAM is among the world’s first vertically i...</td>\n",
       "      <td>NaN</td>\n",
       "      <td>2015.0</td>\n",
       "      <td>Bala Sarda</td>\n",
       "      <td>IIFL AMC</td>\n",
       "      <td>NaN</td>\n",
       "      <td>2021</td>\n",
       "    </tr>\n",
       "    <tr>\n",
       "      <th>2876</th>\n",
       "      <td>Leap Finance</td>\n",
       "      <td>Financial Services</td>\n",
       "      <td>Series C</td>\n",
       "      <td>$55000000</td>\n",
       "      <td>Bangalore</td>\n",
       "      <td>International education loans for high potenti...</td>\n",
       "      <td>NaN</td>\n",
       "      <td>2019.0</td>\n",
       "      <td>Arnav Kumar, Vaibhav Singh</td>\n",
       "      <td>Owl Ventures</td>\n",
       "      <td>NaN</td>\n",
       "      <td>2021</td>\n",
       "    </tr>\n",
       "    <tr>\n",
       "      <th>2877</th>\n",
       "      <td>CollegeDekho</td>\n",
       "      <td>EdTech</td>\n",
       "      <td>Series B</td>\n",
       "      <td>$26000000</td>\n",
       "      <td>Gurugram</td>\n",
       "      <td>Collegedekho.com is Student’s Partner, Friend ...</td>\n",
       "      <td>NaN</td>\n",
       "      <td>2015.0</td>\n",
       "      <td>Ruchir Arora</td>\n",
       "      <td>Winter Capital, ETS, Man Capital</td>\n",
       "      <td>NaN</td>\n",
       "      <td>2021</td>\n",
       "    </tr>\n",
       "    <tr>\n",
       "      <th>2878</th>\n",
       "      <td>WeRize</td>\n",
       "      <td>Financial Services</td>\n",
       "      <td>Series A</td>\n",
       "      <td>$8000000</td>\n",
       "      <td>Bangalore</td>\n",
       "      <td>India’s first socially distributed full stack ...</td>\n",
       "      <td>NaN</td>\n",
       "      <td>2019.0</td>\n",
       "      <td>Vishal Chopra, Himanshu Gupta</td>\n",
       "      <td>3one4 Capital, Kalaari Capital</td>\n",
       "      <td>NaN</td>\n",
       "      <td>2021</td>\n",
       "    </tr>\n",
       "  </tbody>\n",
       "</table>\n",
       "</div>"
      ],
      "text/plain": [
       "      company_name                 sector         stage     Amount   location  \\\n",
       "2874      Gigforce  Staffing & Recruiting  Pre-series A   $3000000   Gurugram   \n",
       "2875        Vahdam       Food & Beverages      Series D  $20000000  New Delhi   \n",
       "2876  Leap Finance     Financial Services      Series C  $55000000  Bangalore   \n",
       "2877  CollegeDekho                 EdTech      Series B  $26000000   Gurugram   \n",
       "2878        WeRize     Financial Services      Series A   $8000000  Bangalore   \n",
       "\n",
       "                                            description ï»¿Company/Brand  \\\n",
       "2874                  A gig/on-demand staffing company.              NaN   \n",
       "2875  VAHDAM is among the world’s first vertically i...              NaN   \n",
       "2876  International education loans for high potenti...              NaN   \n",
       "2877  Collegedekho.com is Student’s Partner, Friend ...              NaN   \n",
       "2878  India’s first socially distributed full stack ...              NaN   \n",
       "\n",
       "      Founded                       Founders  \\\n",
       "2874   2019.0    Chirag Mittal, Anirudh Syal   \n",
       "2875   2015.0                     Bala Sarda   \n",
       "2876   2019.0     Arnav Kumar, Vaibhav Singh   \n",
       "2877   2015.0                   Ruchir Arora   \n",
       "2878   2019.0  Vishal Chopra, Himanshu Gupta   \n",
       "\n",
       "                              Investor column10  Year  \n",
       "2874                   Endiya Partners      NaN  2021  \n",
       "2875                          IIFL AMC      NaN  2021  \n",
       "2876                      Owl Ventures      NaN  2021  \n",
       "2877  Winter Capital, ETS, Man Capital      NaN  2021  \n",
       "2878    3one4 Capital, Kalaari Capital      NaN  2021  "
      ]
     },
     "execution_count": 15,
     "metadata": {},
     "output_type": "execute_result"
    }
   ],
   "source": [
    "# View from the bottom\n",
    "merged_data.tail(5)"
   ]
  },
  {
   "cell_type": "code",
   "execution_count": 16,
   "metadata": {},
   "outputs": [
    {
     "name": "stdout",
     "output_type": "stream",
     "text": [
      "<class 'pandas.core.frame.DataFrame'>\n",
      "RangeIndex: 2879 entries, 0 to 2878\n",
      "Data columns (total 12 columns):\n",
      " #   Column            Non-Null Count  Dtype  \n",
      "---  ------            --------------  -----  \n",
      " 0   company_name      2790 non-null   object \n",
      " 1   sector            2861 non-null   object \n",
      " 2   stage             1941 non-null   object \n",
      " 3   Amount            2622 non-null   object \n",
      " 4   location          2765 non-null   object \n",
      " 5   description       2879 non-null   object \n",
      " 6   ï»¿Company/Brand  89 non-null     object \n",
      " 7   Founded           2110 non-null   float64\n",
      " 8   Founders          2334 non-null   object \n",
      " 9   Investor          2253 non-null   object \n",
      " 10  column10          2 non-null      object \n",
      " 11  Year              2879 non-null   int64  \n",
      "dtypes: float64(1), int64(1), object(10)\n",
      "memory usage: 270.0+ KB\n"
     ]
    }
   ],
   "source": [
    "# Check data structure and information\n",
    "merged_data.info()"
   ]
  },
  {
   "cell_type": "markdown",
   "metadata": {},
   "source": [
    "Observation\n",
    "Column 10 is virtually empty, indicating irrelevant column for analysis, while the dataset exhibits incorrect data types, requiring rectification for accurate insights."
   ]
  },
  {
   "cell_type": "code",
   "execution_count": 17,
   "metadata": {},
   "outputs": [],
   "source": [
    "# Drop Column 10 permanently\n",
    "merged_data.drop(columns=['column10'], inplace=True)\n"
   ]
  },
  {
   "cell_type": "code",
   "execution_count": 18,
   "metadata": {},
   "outputs": [
    {
     "data": {
      "text/html": [
       "<div>\n",
       "<style scoped>\n",
       "    .dataframe tbody tr th:only-of-type {\n",
       "        vertical-align: middle;\n",
       "    }\n",
       "\n",
       "    .dataframe tbody tr th {\n",
       "        vertical-align: top;\n",
       "    }\n",
       "\n",
       "    .dataframe thead th {\n",
       "        text-align: right;\n",
       "    }\n",
       "</style>\n",
       "<table border=\"1\" class=\"dataframe\">\n",
       "  <thead>\n",
       "    <tr style=\"text-align: right;\">\n",
       "      <th></th>\n",
       "      <th>company_name</th>\n",
       "      <th>sector</th>\n",
       "      <th>stage</th>\n",
       "      <th>Amount</th>\n",
       "      <th>location</th>\n",
       "      <th>description</th>\n",
       "      <th>ï»¿Company/Brand</th>\n",
       "      <th>Founded</th>\n",
       "      <th>Founders</th>\n",
       "      <th>Investor</th>\n",
       "      <th>Year</th>\n",
       "    </tr>\n",
       "  </thead>\n",
       "  <tbody>\n",
       "    <tr>\n",
       "      <th>0</th>\n",
       "      <td>TheCollegeFever</td>\n",
       "      <td>Brand Marketing, Event Promotion, Marketing, S...</td>\n",
       "      <td>Seed</td>\n",
       "      <td>250000</td>\n",
       "      <td>Bangalore, Karnataka, India</td>\n",
       "      <td>TheCollegeFever is a hub for fun, fiesta and f...</td>\n",
       "      <td>NaN</td>\n",
       "      <td>NaN</td>\n",
       "      <td>NaN</td>\n",
       "      <td>NaN</td>\n",
       "      <td>2018</td>\n",
       "    </tr>\n",
       "    <tr>\n",
       "      <th>1</th>\n",
       "      <td>Happy Cow Dairy</td>\n",
       "      <td>Agriculture, Farming</td>\n",
       "      <td>Seed</td>\n",
       "      <td>₹40,000,000</td>\n",
       "      <td>Mumbai, Maharashtra, India</td>\n",
       "      <td>A startup which aggregates milk from dairy far...</td>\n",
       "      <td>NaN</td>\n",
       "      <td>NaN</td>\n",
       "      <td>NaN</td>\n",
       "      <td>NaN</td>\n",
       "      <td>2018</td>\n",
       "    </tr>\n",
       "    <tr>\n",
       "      <th>2</th>\n",
       "      <td>MyLoanCare</td>\n",
       "      <td>Credit, Financial Services, Lending, Marketplace</td>\n",
       "      <td>Series A</td>\n",
       "      <td>₹65,000,000</td>\n",
       "      <td>Gurgaon, Haryana, India</td>\n",
       "      <td>Leading Online Loans Marketplace in India</td>\n",
       "      <td>NaN</td>\n",
       "      <td>NaN</td>\n",
       "      <td>NaN</td>\n",
       "      <td>NaN</td>\n",
       "      <td>2018</td>\n",
       "    </tr>\n",
       "    <tr>\n",
       "      <th>3</th>\n",
       "      <td>PayMe India</td>\n",
       "      <td>Financial Services, FinTech</td>\n",
       "      <td>Angel</td>\n",
       "      <td>2000000</td>\n",
       "      <td>Noida, Uttar Pradesh, India</td>\n",
       "      <td>PayMe India is an innovative FinTech organizat...</td>\n",
       "      <td>NaN</td>\n",
       "      <td>NaN</td>\n",
       "      <td>NaN</td>\n",
       "      <td>NaN</td>\n",
       "      <td>2018</td>\n",
       "    </tr>\n",
       "    <tr>\n",
       "      <th>4</th>\n",
       "      <td>Eunimart</td>\n",
       "      <td>E-Commerce Platforms, Retail, SaaS</td>\n",
       "      <td>Seed</td>\n",
       "      <td>—</td>\n",
       "      <td>Hyderabad, Andhra Pradesh, India</td>\n",
       "      <td>Eunimart is a one stop solution for merchants ...</td>\n",
       "      <td>NaN</td>\n",
       "      <td>NaN</td>\n",
       "      <td>NaN</td>\n",
       "      <td>NaN</td>\n",
       "      <td>2018</td>\n",
       "    </tr>\n",
       "  </tbody>\n",
       "</table>\n",
       "</div>"
      ],
      "text/plain": [
       "      company_name                                             sector  \\\n",
       "0  TheCollegeFever  Brand Marketing, Event Promotion, Marketing, S...   \n",
       "1  Happy Cow Dairy                               Agriculture, Farming   \n",
       "2       MyLoanCare   Credit, Financial Services, Lending, Marketplace   \n",
       "3      PayMe India                        Financial Services, FinTech   \n",
       "4         Eunimart                 E-Commerce Platforms, Retail, SaaS   \n",
       "\n",
       "      stage       Amount                          location  \\\n",
       "0      Seed       250000       Bangalore, Karnataka, India   \n",
       "1      Seed  ₹40,000,000        Mumbai, Maharashtra, India   \n",
       "2  Series A  ₹65,000,000           Gurgaon, Haryana, India   \n",
       "3     Angel      2000000       Noida, Uttar Pradesh, India   \n",
       "4      Seed            —  Hyderabad, Andhra Pradesh, India   \n",
       "\n",
       "                                         description ï»¿Company/Brand  \\\n",
       "0  TheCollegeFever is a hub for fun, fiesta and f...              NaN   \n",
       "1  A startup which aggregates milk from dairy far...              NaN   \n",
       "2          Leading Online Loans Marketplace in India              NaN   \n",
       "3  PayMe India is an innovative FinTech organizat...              NaN   \n",
       "4  Eunimart is a one stop solution for merchants ...              NaN   \n",
       "\n",
       "   Founded Founders Investor  Year  \n",
       "0      NaN      NaN      NaN  2018  \n",
       "1      NaN      NaN      NaN  2018  \n",
       "2      NaN      NaN      NaN  2018  \n",
       "3      NaN      NaN      NaN  2018  \n",
       "4      NaN      NaN      NaN  2018  "
      ]
     },
     "execution_count": 18,
     "metadata": {},
     "output_type": "execute_result"
    }
   ],
   "source": [
    "# Confirm dropped column\n",
    "merged_data.head()"
   ]
  },
  {
   "cell_type": "markdown",
   "metadata": {},
   "source": [
    " #### Quality Checks on Columns"
   ]
  },
  {
   "cell_type": "markdown",
   "metadata": {},
   "source": [
    "   #### sector column"
   ]
  },
  {
   "cell_type": "markdown",
   "metadata": {},
   "source": [
    "#### Print unique values in column to understand structure"
   ]
  },
  {
   "cell_type": "code",
   "execution_count": 19,
   "metadata": {},
   "outputs": [
    {
     "name": "stdout",
     "output_type": "stream",
     "text": [
      "['Brand Marketing, Event Promotion, Marketing, Sponsorship, Ticketing'\n",
      " 'Agriculture, Farming' 'Credit, Financial Services, Lending, Marketplace'\n",
      " 'Financial Services, FinTech' 'E-Commerce Platforms, Retail, SaaS'\n",
      " 'Cloud Infrastructure, PaaS, SaaS' 'Internet, Leisure, Marketplace'\n",
      " 'Market Research' 'Information Services, Information Technology'\n",
      " 'Mobile Payments' 'B2B, Shoes' 'Internet'\n",
      " 'Apps, Collaboration, Developer Platform, Enterprise Software, Messaging, Productivity Tools, Video Chat'\n",
      " 'Food Delivery' 'Industrial Automation'\n",
      " 'Automotive, Search Engine, Service Industry' 'Finance, Internet, Travel'\n",
      " 'Accounting, Business Information Systems, Business Travel, Finance, SaaS'\n",
      " 'Artificial Intelligence, Product Search, SaaS, Service Industry, Software'\n",
      " 'Internet of Things, Waste Management'\n",
      " 'Air Transportation, Freight Service, Logistics, Marine Transportation'\n",
      " 'Financial Services' 'Food and Beverage' 'Autonomous Vehicles'\n",
      " 'Enterprise Software, Health Care, Hospital, Parenting, Personal Health, SaaS'\n",
      " 'Agriculture, Analytics, Big Data, Farming'\n",
      " 'Logistics, Supply Chain Management' 'Financial Services, Lending'\n",
      " 'Automotive, Marketplace, Online Portals' 'Artificial Intelligence'\n",
      " 'Internet of Things, Telecommunications' 'Insurance'\n",
      " 'Information Technology, Logistics, Supply Chain Management'\n",
      " 'Blockchain, Developer Tools, Enterprise Software'\n",
      " 'Industrial Automation, Logistics, Supply Chain Management'\n",
      " 'Food and Beverage, Food Delivery, Snack Food' 'Education'\n",
      " 'E-Commerce, Fashion, Jewelry, Retail' 'Renewable Energy'\n",
      " 'E-Learning, Education'\n",
      " 'Clean Energy, CleanTech, Laundry and Dry-cleaning'\n",
      " 'E-Commerce, Fashion, Mobile'\n",
      " 'Apps, Messaging, Navigation, Public Safety' 'Transportation'\n",
      " 'Fitness, Health Care, Wellness'\n",
      " 'Artificial Intelligence, Machine Learning, SaaS, Virtual Assistant'\n",
      " 'Hospitality' 'Food and Beverage, Tea'\n",
      " 'Media and Entertainment, News, Outdoors'\n",
      " 'Broadcasting, Media and Entertainment, Music, Music Streaming, Video, Video Streaming'\n",
      " 'B2B, Information Services, Information Technology'\n",
      " 'EdTech, Education, Enterprise Software, Peer to Peer'\n",
      " 'Health Care, Medical' 'E-Commerce' 'Health Care, Hospital, Wellness' '—'\n",
      " 'Sports' 'Big Data, Consumer Lending, FinTech'\n",
      " 'Cloud Computing, Computer, Semiconductor'\n",
      " 'Health Care, Medical, Pharmaceutical' 'Food Processing, Retail'\n",
      " 'Trading Platform' \"Consumer Goods, Lifestyle, Men's\" 'Wellness'\n",
      " 'Food and Beverage, Food Processing, Nutrition' 'Fashion'\n",
      " 'Automotive, Electric Vehicle, Energy Storage'\n",
      " 'Consulting, Retail, Social'\n",
      " 'Biotechnology, Life Science, Pharmaceutical, Product Research'\n",
      " 'Health Care' 'Credit, Financial Services, FinTech, Personal Finance'\n",
      " 'Communities, Coworking, Incubators'\n",
      " 'Consumer, Financial Services, FinTech'\n",
      " 'Consumer Applications, Information Services, Location Based Services, Virtual Assistant'\n",
      " 'Mobile, Mobile Apps, Personalization, Test and Measurement, Web Apps'\n",
      " 'Education, Financial Services, FinTech'\n",
      " 'Advertising, Consulting, Digital Marketing'\n",
      " 'Marketplace, Real Estate, Rental Property'\n",
      " 'E-Learning, Internet, Video Games'\n",
      " 'Artificial Intelligence, Cloud Computing, Video'\n",
      " 'Health Care, Information Technology' 'Aerospace'\n",
      " 'E-Commerce, Fashion, Lifestyle'\n",
      " 'Artificial Intelligence, Business Intelligence, Industrial Automation, Machine Learning'\n",
      " 'Home Decor, Home Improvement, Home Renovation, Home Services, Interior Design, Smart Home'\n",
      " 'EdTech, Education, Information Services, SaaS' 'Energy, Solar'\n",
      " 'B2B, Biometrics, Cyber Security, Fraud Detection, SaaS, Security'\n",
      " 'Artificial Intelligence, Social' 'Logistics, Transportation, Travel'\n",
      " 'Digital Marketing, SEM, SEO, Web Development'\n",
      " 'Health Care, Hospital, Medical' 'Finance, Financial Services'\n",
      " 'Food Delivery, Food Processing, Internet'\n",
      " 'E-Commerce, Food and Beverage, Internet'\n",
      " 'Fitness, Food and Beverage, Health Care, Nutrition'\n",
      " 'EdTech, Education, Knowledge Management'\n",
      " 'Apps, Beauty, Consumer, Retail'\n",
      " 'Creative Agency, Crowdfunding, EdTech, Health Care, Internet, Medical, Non Profit, Personal Health'\n",
      " 'Consumer Lending, Financial Services, FinTech, Insurance, Lending, Mobile Payments, Payments, Wealth Management'\n",
      " 'E-Learning, Education, Higher Education' 'Health Diagnostics'\n",
      " 'EdTech, Education' 'Financial Services, SaaS, Security'\n",
      " 'Banking, Finance, Financial Services, Non Profit'\n",
      " 'B2B, E-Commerce, Mobile'\n",
      " 'Automotive, Electric Vehicle, Renewable Energy' 'E-Learning'\n",
      " 'Embedded Systems, Health Care, Medical, Product Research'\n",
      " 'Apps, E-Commerce, Internet' 'Advertising, Human Resources, Marketing'\n",
      " 'Beauty, Fitness, Home Services, Internet'\n",
      " 'Health Care, Medical Device, Public Safety'\n",
      " 'Food Delivery, Online Portals, Restaurants'\n",
      " 'AgTech, B2B, Supply Chain Management'\n",
      " 'Credit Cards, Finance, Mobile Apps, Mobile Payments, Payments'\n",
      " 'Software' 'EdTech, Education, Higher Education, Secondary Education'\n",
      " 'Manufacturing, Retail' 'Manufacturing'\n",
      " 'Information Services, Information Technology, InsurTech'\n",
      " 'Consumer Lending, FinTech' 'Internet, Social Network, TV'\n",
      " 'Beauty, Health Care' 'Hospital' 'Events'\n",
      " '3D Printing, Manufacturing, Product Design' 'Automotive'\n",
      " 'Automotive, Retail' 'Apps, Audio' 'Automotive, E-Commerce'\n",
      " 'Digital Entertainment, Fantasy Sports, Sports'\n",
      " 'E-Learning, EdTech, Education'\n",
      " 'Funding Platform, Incubators, Non Profit'\n",
      " 'Hospitality, Hotel, Leisure, Travel'\n",
      " 'Classifieds, Internet, Marketplace, Rental Property'\n",
      " 'Banking, E-Learning, Trading Platform' 'E-Commerce, Mobile, Retail'\n",
      " 'Artificial Intelligence, Information Technology'\n",
      " 'Enterprise Resource Planning (ERP), Information Services, Information Technology, Real Estate'\n",
      " 'Banking, Finance, Financial Services' 'Audio, Mobile, Tourism, Travel'\n",
      " 'Energy, Energy Storage, Infrastructure'\n",
      " 'Government, Information Technology, Software' 'Information Technology'\n",
      " 'Education, Information Technology, Internet, Mobile, Software'\n",
      " 'Consumer Lending, Financial Services, Lending, Personal Finance'\n",
      " 'Digital Media, Internet, Media and Entertainment, Online Portals, Social Media'\n",
      " 'Business Intelligence, Customer Service, Market Research, SaaS'\n",
      " 'Credit, Financial Services, FinTech, Lending'\n",
      " 'Children, Education, Parenting'\n",
      " 'Automotive, Battery, Energy, Energy Storage'\n",
      " 'E-Commerce, Mobile, Sharing Economy'\n",
      " 'Food Delivery, Organic, Organic Food' 'Mobile' 'Rental' 'Travel'\n",
      " 'Consumer' 'B2B, Farming, Marketplace' 'Wealth Management'\n",
      " 'Biotechnology' 'Education, Gaming, Training' 'Veterinary'\n",
      " 'Internet, Mobile, Social Entrepreneurship, Telecommunications, Wireless'\n",
      " 'Health Care, Hospital, Supply Chain Management' 'Tourism, Travel'\n",
      " 'Hospitality, Real Estate' 'Finance'\n",
      " 'Digital Media, EBooks, Publishing, Reading Apps'\n",
      " 'Consumer Electronics, Embedded Systems, Hardware, Smart Building, Software'\n",
      " 'Food and Beverage, Food Processing' 'Internet, Marketplace, Shopping'\n",
      " 'Analytics, Computer Vision, Enterprise Software, Machine Learning, Natural Language Processing, Speech Recognition'\n",
      " 'Facilities Support Services' 'Automotive, Electric Vehicle, Energy'\n",
      " 'Health Care, Health Diagnostics, Predictive Analytics'\n",
      " 'Cloud Computing, Computer, SaaS, Software' 'Fashion, Lifestyle, Retail'\n",
      " 'Medical' 'Music Streaming' 'Finance, Impact Investing, Internet'\n",
      " 'Internet, Social Entrepreneurship' 'Retail'\n",
      " 'Finance, Impact Investing, Mobile Apps'\n",
      " 'Cloud Computing, Computer, Software'\n",
      " 'Business Development, Market Research, Outsourcing'\n",
      " 'Health Care, Hospitality' 'Internet, Social News, Sports'\n",
      " 'Human Resources' 'Finance, Financial Services, FinTech'\n",
      " 'Customer Service, Software, Video, Video Streaming'\n",
      " 'E-Commerce, Food Processing' 'Training'\n",
      " 'Dietary Supplements, Food and Beverage, Health Care, Organic Food, Snack Food'\n",
      " 'Manufacturing, Oil and Gas, Robotics'\n",
      " 'Artificial Intelligence, Computer, Machine Learning'\n",
      " 'Collaboration, Communities, Coworking, Sharing Economy'\n",
      " 'Big Data, EdTech, Machine Learning' 'Nanotechnology'\n",
      " 'Analytics, Audio, Digital Media, Innovation Management, Internet Radio, Media and Entertainment'\n",
      " 'Financial Services, Lending, Peer to Peer'\n",
      " 'E-Commerce, Furniture, Home Decor, Interior Design, Internet'\n",
      " 'Digital Media' 'File Sharing, Personalization, Social Media'\n",
      " 'Home Decor, Interior Design' 'Health Care, Medical Device, Mobile Apps'\n",
      " 'E-Commerce, Facilities Support Services, Procurement, Supply Chain Management'\n",
      " 'Crowdfunding, Finance, Financial Services'\n",
      " 'Finance, Financial Services, Insurance'\n",
      " 'Children, Education, Online Portals' 'Software, Virtual Reality'\n",
      " 'B2B, Food and Beverage, Food Delivery'\n",
      " 'Catering, Food and Beverage, Food Delivery, Food Processing'\n",
      " 'Food and Beverage, Snack Food' 'Automotive, E-Commerce, Mobile'\n",
      " 'Computer, Digital Marketing, Facilities Support Services, Graphic Design, Internet, Mobile Apps, Social Media Marketing, Web Development'\n",
      " 'Android, Big Data, Blockchain, Cloud Computing, EdTech, Education, Information Technology, iOS, Training, Web Development'\n",
      " 'Analytics, CRM, Loyalty Programs, Machine Learning, Marketing Automation, Retail Technology, SaaS, Small and Medium Businesses'\n",
      " 'Delivery, Information Technology, Mobile Apps'\n",
      " 'Environmental Consulting, Renewable Energy'\n",
      " 'Big Data, Business Intelligence, Financial Services, FinTech, Personal Finance'\n",
      " 'Commercial Real Estate, Coworking, Office Administration, Real Estate'\n",
      " 'Food and Beverage, Food Processing, Organic Food, Snack Food'\n",
      " 'Apps, Health Care, Internet, Mobile Apps, Personal Health'\n",
      " 'Digital Media, Incubators, Social Entrepreneurship'\n",
      " 'Finance, Financial Services, Marketing'\n",
      " 'Biotechnology, Health Care, Life Science, Medical Device'\n",
      " 'Education, Human Resources' 'Consumer Electronics'\n",
      " 'Apps, Health Care, Hospital, Mobile Apps'\n",
      " 'Delivery Service, Logistics, Service Industry'\n",
      " 'Big Data, Data Visualization, Logistics, Software'\n",
      " 'Basketball, Cricket, Cycling, eSports, Fitness, Golf, Health Care, Hockey, Sports, Swimming, Table Tennis, Volley Ball'\n",
      " 'Media and Entertainment, News, Publishing' 'Consulting'\n",
      " 'Big Data, Financial Services, Machine Learning, Predictive Analytics'\n",
      " 'Agriculture, AgTech, Manufacturing' 'Digital Media, News, Publishing'\n",
      " 'Health Care, Hospital' 'B2B, E-Commerce, Enterprise'\n",
      " 'Fraud Detection, Information Services, Security'\n",
      " 'Agriculture, AgTech, Artificial Intelligence, Internet of Things, Machine Learning'\n",
      " 'Cryptocurrency, Trading Platform' 'Finance, FinTech, Mobile Payments'\n",
      " 'Wedding'\n",
      " 'E-Learning, EdTech, Education, Image Recognition, Machine Learning, STEM Education'\n",
      " 'Consumer Goods' 'Digital Entertainment'\n",
      " 'Crowdsourcing, Financial Services, Funding Platform, Venture Capital'\n",
      " 'Delivery, Drones, Geospatial, Robotics'\n",
      " 'Health Care, Information Technology, Management Information Systems'\n",
      " 'Farming'\n",
      " 'Business Travel, Hospitality, Hotel, Marketplace, Tourism, Travel Accommodations'\n",
      " 'Career Planning, Education, Higher Education, Service Industry'\n",
      " 'Medical Device' 'Alternative Medicine, Health Care' 'Internet, Software'\n",
      " 'Dental, Elder Care, Health Care, Home Health Care, Personal Health'\n",
      " 'Financial Services, Insurance, Private Social Networking'\n",
      " 'Consumer Electronics, E-Commerce, E-Commerce Platforms, Electronics, Shipping, Shopping'\n",
      " 'CleanTech' 'Advertising, Internet, Marketing'\n",
      " 'Human Resources, Security, Training'\n",
      " 'Consumer Lending, Finance, FinTech' 'Marketing, Social Media, Video'\n",
      " 'Banking' 'Food Processing' 'Apps' 'Marketing'\n",
      " 'Apps, B2B, Freight Service, Logistics, SaaS, Shipping, Supply Chain Management, Transportation'\n",
      " 'Digital Entertainment, Fantasy Sports, Gaming, Sports'\n",
      " 'Automotive, Last Mile Transportation, Peer to Peer, Ride Sharing'\n",
      " 'Commercial, E-Learning, Education'\n",
      " 'Continuing Education, EdTech, Education, Skill Assessment'\n",
      " 'Smart Cities, Telecommunications' 'Internet of Things, Robotics'\n",
      " 'Apps, Home Services, Information Services, Information Technology'\n",
      " 'Medical, Tourism' 'Career Planning, Education, Internet'\n",
      " 'Fashion, Graphic Design, Wearables'\n",
      " 'Communities, Leisure, Mobile Apps, Software'\n",
      " 'Automotive, Rental, Sharing Economy'\n",
      " 'Energy, Environmental Consulting, Renewable Energy, Solar'\n",
      " 'Information Technology, SaaS, Security'\n",
      " 'Crowdfunding, Financial Services, Internet'\n",
      " 'Customer Service, Information Technology, Internet, Sales Automation'\n",
      " 'Advertising, Artificial Intelligence, Digital Media, iOS, Location Based Services, News, Video, Video on Demand, Video Streaming'\n",
      " 'Credit Cards, Payments, Property Insurance, Property Management, Rental Property'\n",
      " 'Beauty, Cosmetics, Health Care, Service Industry'\n",
      " 'EdTech, Education, Mobile, Tutoring' 'Social Media, Sports' 'Biopharma'\n",
      " 'E-Commerce, E-Commerce Platforms, Retail'\n",
      " 'E-Commerce, Fashion, Shopping' 'Digital Entertainment, Mobile, PC Games'\n",
      " 'Finance, Financial Services, Small and Medium Businesses'\n",
      " 'Artificial Intelligence, Energy, Oil and Gas'\n",
      " 'Computer, FinTech, Risk Management, Software'\n",
      " 'Apps, Financial Services, FinTech'\n",
      " \"Child Care, Health Care, Hospital, Medical, Women's\"\n",
      " 'Agriculture, Mobile'\n",
      " 'Finance, FinTech, Payments, Property Development, Rental'\n",
      " 'Information Services, Information Technology, Mobile, Software'\n",
      " 'Apps, Fitness, Health Care, mHealth' 'Food and Beverage, Food Delivery'\n",
      " 'Apps, Payments, Retail' 'Health Insurance, Insurance, Life Insurance'\n",
      " 'Rental, Taxi Service, Travel'\n",
      " 'E-Commerce, E-Commerce Platforms, Internet, Retail'\n",
      " 'Financial Services, Professional Services'\n",
      " 'Customer Service, Messaging, Mobile Apps, Personalization'\n",
      " 'Gaming, iOS, Sports'\n",
      " 'E-Commerce, E-Commerce Platforms, Internet, Mobile Apps, Social Media'\n",
      " 'Search Engine'\n",
      " 'Battery, Electric Vehicle, Energy, Renewable Energy, Transportation'\n",
      " 'Agriculture, Farmers Market, Farming'\n",
      " 'Artificial Intelligence, Drones, Navigation, Packaging Services, Robotics'\n",
      " 'Fitness, GreenTech, Internet of Things, Mobile Apps, Ride Sharing, Transportation'\n",
      " 'Mobile, Software, Travel' 'Cosmetics'\n",
      " 'Consulting, Cyber Security, Network Security'\n",
      " 'eSports, Gaming, Video Games' 'Fashion, Jewelry' 'B2B, Medical Device'\n",
      " 'Consumer Goods, Manufacturing' 'Biotechnology, Health Care, Wellness'\n",
      " 'Health Care, Hospital, Medical, Robotics'\n",
      " 'E-Commerce, Fitness, Health Care' 'Financial Services, Venture Capital'\n",
      " 'Accounting, Apps, FinTech' 'Apps, Mobile, Transportation' 'Reading Apps'\n",
      " 'Energy, Renewable Energy, Solar' 'Banking, Financial Services, FinTech'\n",
      " 'Apps, Education, Retail' 'Electric Vehicle'\n",
      " 'Automotive, Battery, Electric Vehicle, Manufacturing, Mechanical Design'\n",
      " 'Automotive, E-Commerce, Marketplace' 'Agriculture'\n",
      " 'Apps, Information Services, Information Technology' 'B2B, Marketplace'\n",
      " 'Packaging Services' 'Computer, Furniture, Software'\n",
      " 'Food Delivery, Hospitality, Reservations, Restaurants, Search Engine'\n",
      " 'Collaboration, Communities, Coworking, Real Estate'\n",
      " 'Accounting, Banking, Finance'\n",
      " 'Cloud Computing, Enterprise Software, Network Hardware, Network Security, SaaS'\n",
      " 'Information Services, Internet, Logistics, Supply Chain Management, Transportation'\n",
      " 'Automotive, E-Commerce, Information Services'\n",
      " 'Delivery, Logistics, Transportation'\n",
      " 'Automotive, E-Commerce Platforms, Marketplace'\n",
      " 'Last Mile Transportation, Railroad, Transportation, Travel'\n",
      " 'Cooking, E-Commerce, Food and Beverage, Food Delivery, Online Portals'\n",
      " 'FinTech, Mobile, Mobile Payments, Payments, Retail Technology'\n",
      " 'Online Games, Software' 'Online Portals, Property Management, Rental'\n",
      " 'E-Commerce, Food and Beverage, Tea' 'Music, Social Network, Video'\n",
      " 'Health Care, Pharmaceutical, Wellness'\n",
      " 'Delivery Service, Food and Beverage, Food Delivery'\n",
      " 'Hospitality, Information Technology, Travel Accommodations'\n",
      " 'Biotechnology, Diabetes, Health Care'\n",
      " 'Autonomous Vehicles, Last Mile Transportation, Recreational Vehicles, Rental'\n",
      " 'Finance, Financial Exchanges, Financial Services, Micro Lending'\n",
      " 'Analytics, Apps, Market Research'\n",
      " 'E-Commerce, E-Commerce Platforms, Furniture, Home Decor, Internet'\n",
      " 'Apps, Mobile, Mobile Apps, Software' 'News, Publishing, Social Media'\n",
      " 'Industrial, Industrial Automation'\n",
      " 'Internet, Mobile Apps, Social Network'\n",
      " 'Health Care, Health Diagnostics, Internet of Things, Life Science, Machine Learning, Medical, Medical Device'\n",
      " 'E-Commerce, Furniture, Interior Design' 'Apps, Events, News'\n",
      " 'Artificial Intelligence, Human Resources, Information Services, Information Technology'\n",
      " 'Logistics, Railroad, Transportation' 'Dating, Private Social Networking'\n",
      " 'Artificial Intelligence, Machine Learning, PaaS'\n",
      " 'Consumer, Furniture, Home Decor, Home Improvement'\n",
      " 'Apps, E-Commerce, Internet, Mobile, Ride Sharing, Transportation'\n",
      " 'Health Care, Health Insurance' 'Energy, Natural Resources'\n",
      " 'E-Commerce, Education, Health Care' 'Apps, Health Care, Pharmaceutical'\n",
      " 'Internet, Knowledge Management'\n",
      " 'Credit, Finance, FinTech, Lending, Sales Automation'\n",
      " 'Banking, Financial Services, Internet' 'E-Commerce, Health Care, Retail'\n",
      " 'Child Care, Information Technology' 'Financial Services, Micro Lending'\n",
      " 'E-Commerce, Retail, Shopping' 'Food and Beverage, Snack Food, Tea'\n",
      " 'Delivery Service, E-Commerce, Logistics' 'Fashion, Lifestyle, Rental'\n",
      " 'Fantasy Sports, Mobile, Sports' 'Beauty, Fashion, Wellness'\n",
      " 'Food and Beverage, Restaurants, Tea' 'Fitness, Sporting Goods, Sports'\n",
      " 'Food and Beverage, Food Processing, Manufacturing'\n",
      " 'E-Learning, Internet' 'Eyewear, Internet'\n",
      " 'Information Technology, Mobile, News, Operating Systems, Social Media, Social News'\n",
      " 'FinTech, Internet, Payments, Service Industry'\n",
      " 'B2B, Business Development, Internet, Marketplace'\n",
      " 'Food and Beverage, Food Delivery, Internet'\n",
      " 'Biotechnology, Health Care, Pharmaceutical' 'Ecommerce' 'Edtech'\n",
      " 'Interior design' 'AgriTech' 'Technology' 'SaaS' 'AI & Tech' 'E-commerce'\n",
      " 'E-commerce & AR' 'Fintech' 'HR tech' 'Food tech' 'Health' 'Healthcare'\n",
      " 'Safety tech' 'Pharmaceutical' 'Insurance technology' 'AI' 'Foodtech'\n",
      " 'Food' 'IoT' 'E-marketplace' 'Robotics & AI' 'Logistics'\n",
      " 'Food & Nutrition' 'Social Media' nan 'E-Sports' 'B2B' 'Jewellery'\n",
      " 'B2B Supply Chain' 'Games' 'Food & tech' 'Accomodation' 'Automotive tech'\n",
      " 'Legal tech' 'Mutual Funds' 'Cybersecurity' 'Automobile' 'Healthtech'\n",
      " 'Yoga & wellness' 'Virtual Banking' 'Transport & Rentals'\n",
      " 'Marketing & Customer loyalty' 'Infratech' 'Automobile & Technology'\n",
      " 'EdTech' 'Hygiene management' 'Escrow' 'Networking platform' 'FinTech'\n",
      " 'Crowdsourcing' 'Food & Bevarages' 'HealthTech' 'Fashion startup'\n",
      " 'Food Industry' 'Virtual auditing startup' 'Gaming' 'Work fulfillment'\n",
      " 'AI startup' 'Telecommunication' 'Tech Startup' 'Medtech'\n",
      " 'Tyre management' 'Cloud company' 'Software company' 'Venture capitalist'\n",
      " 'Renewable player' 'IoT startup' 'SaaS startup' 'Aero company'\n",
      " 'Marketing company' 'Retail startup' 'Co-working Startup'\n",
      " 'Finance company' 'Tech company' 'Solar Monitoring Company'\n",
      " 'Video sharing platform' 'Gaming startup' 'Video streaming platform'\n",
      " 'Consumer appliances' 'Blockchain startup' 'Conversational AI platform'\n",
      " 'Real Estate' 'SaaS platform' 'AI platform' 'Fusion beverages' 'HR Tech'\n",
      " 'Job portal' 'Dairy startup' 'Content management' 'Spacetech'\n",
      " 'Trading platform' 'AI Company' 'Photonics startup' 'Entertainment'\n",
      " 'Scanning app' 'Skincare startup' 'Food and Beverages'\n",
      " 'Biotechnology company' 'FoodTech' 'Proptech' 'Fitness startup'\n",
      " 'PaaS startup' 'Beverages' 'Automobiles' 'Deeptech' 'EV startup'\n",
      " 'AR/VR startup' 'Recruitment startup' 'QSR startup' 'Video platform'\n",
      " 'Fertility tech' 'Luxury car startup' 'FM' 'Nutrition sector'\n",
      " 'Tech platform' 'Video' 'Retail Tech' 'HeathTech' 'Sles and marketing'\n",
      " 'LegalTech' 'Car Service' 'Bike marketplace' 'Agri tech' 'Reatil startup'\n",
      " 'AR platform' 'Content marketplace' 'Interior Design' 'Rental space'\n",
      " 'Soil-Tech' 'Ayurveda tech' 'Packaging solution startup' 'Cleantech'\n",
      " 'Sanitation solutions' 'HealthCare' 'Home Design' 'InsureTech'\n",
      " 'AI Startup' 'Solar solution' 'Jewellery startup'\n",
      " 'Multinational conglomerate company' 'Deeptech startup' 'Social Network'\n",
      " 'Publication' 'Tech' 'Venture capital' 'Entreprenurship' 'Food devlivery'\n",
      " 'Warehouse' 'Online financial service' 'Eyeglasses' 'Battery design'\n",
      " 'Online credit management startup' 'Beverage' 'TravelTech'\n",
      " 'Startup laboratory' 'Personal care startup' 'Customer service company'\n",
      " 'SaaS\\xa0\\xa0startup' 'Marketing startup' 'Service industry'\n",
      " 'Social media' 'AR startup' 'HR Tech startup' 'Automotive Startup'\n",
      " 'Food Startup' 'EdTech Startup' 'Car Trade' 'EdtTech' 'AI Platform'\n",
      " 'Automation' 'Solar SaaS' 'WL & RAC protection' 'Social commerce'\n",
      " 'Home interior services' 'Agritech startup' 'API platform' 'Deep Tech'\n",
      " 'Electricity' 'Automotive company' 'FMCG' 'Insurance Tech'\n",
      " 'Video personalization' 'Software Company' 'Biomaterial startup' 'IT'\n",
      " 'Craft Beer' 'Investment' 'Linguistic Spiritual' 'Construction'\n",
      " 'Battery manufacturer' 'Nano Distribution Network' 'AI health'\n",
      " 'Dating app' 'Media' 'Healthcare/Edtech' 'Social Commerce'\n",
      " 'Agritech/Commerce' 'Mobility tech' 'Social e-commerce'\n",
      " 'Food & Logistics' 'SpaceTech' 'Nutrition Tech' 'HR' None 'Agritech'\n",
      " 'AR/VR' 'Appliance' 'Mental Health' 'Solar Solution' 'B2B marketplace'\n",
      " 'Fashion Tech' 'Nutrition tech' 'Health & Wellness' 'Cloud Kitchen'\n",
      " 'IoT/Automobile' 'Eye Wear' 'Digital tech' 'Data Intelligence'\n",
      " 'Co-living' 'Food & Beverages' 'Defense tech' 'Marketplace'\n",
      " 'Construction tech' 'Nutrition' 'Coworking' 'Micro-mobiity' 'Auto-tech'\n",
      " 'Beauty' 'Robotics' 'Logitech' 'Med Tech' 'Life sciences'\n",
      " 'Retail Aggregator' 'Deep Tech AI' 'Biotech' 'Blockchain' 'HrTech'\n",
      " 'Mobility/Transport' 'AI & Debt' 'SaaS/Edtech' 'Transport' 'Co-working'\n",
      " 'Insurtech' 'Cryptocurrency' 'Legal' 'Fitness' 'EV'\n",
      " 'Supply chain, Agritech' 'Pharma' 'Foodtech & Logistics' 'Housing'\n",
      " 'Data Analytics' 'Investment Tech' 'Dairy' 'Beauty & wellness'\n",
      " 'Travel & SaaS' 'Tourism & EV' 'Media Tech' 'Location Analytics'\n",
      " 'E store' 'Data Science' 'Health and Fitness' 'Interior & decor'\n",
      " 'eMobility' 'Automation tech' 'Media & Networking' 'E-market'\n",
      " 'AI & Data science' 'Travel tech' 'Automotive and Rentals' 'E-tail'\n",
      " 'AI & Media' 'Machine Learning' 'Content Marktplace' 'Visual Media'\n",
      " 'Hygiene' 'VR & SaaS' 'Sales & Services' 'AI & Deep learning'\n",
      " 'Housing & Rentals' 'Estore' 'E tailor' 'E-mobility' 'Ad-tech'\n",
      " 'Neo-banking' 'Transport Automation' 'Techonology' 'AI Robotics'\n",
      " 'Preschool Daycare' 'Food diet' 'B2B Agritech' 'E-connect' 'Tech hub'\n",
      " 'Consultancy' 'Pharmacy' 'Deisgning' 'Taxation' 'Automobile Technology'\n",
      " 'B2B E-commerce' 'Home services' 'B2B service' 'Helathcare' 'Electronics'\n",
      " 'IT startup' 'Aeorspace' 'Dating' 'Oil and Energy' 'Telecommuncation'\n",
      " 'Milk startup' 'AI Chatbot' 'Food delivery' 'Fantasy sports'\n",
      " 'Video communication' 'Skill development' 'Recruitment' 'Computer Games'\n",
      " 'Apparel & Fashion' 'Logistics & Supply Chain' 'SportsTech' 'HRTech'\n",
      " 'Wine & Spirits' 'Mechanical & Industrial Engineering' 'Spiritual'\n",
      " 'Lifestyle' 'Computer software' 'Tech startup' 'Digital mortgage'\n",
      " 'Information Technology & Services' 'Furniture' 'Healtcare' 'Tobacco'\n",
      " 'Insuretech' 'MLOps platform' 'Venture Capital' 'Pet care' 'Drone'\n",
      " 'Wholesale' 'E-learning' 'Consumer Services'\n",
      " 'Venture Capital & Private Equity' 'Health, Wellness & Fitness' 'OTT'\n",
      " 'Education Management' 'Computer Software' 'Software Startup'\n",
      " 'Computer & Network Security' 'Capital Markets' 'Social network'\n",
      " 'Hospital & Health Care' 'Music' 'Hauz Khas'\n",
      " 'Primary Business is Development and Manufacturing of Novel Healthcare Products in Effervescent forms using imported propriety ingredients.'\n",
      " \"MoEVing is India's only Electric Mobility focused Technology Platform with a vision to accelerate EV adoption in India.\"\n",
      " 'Mobility' 'Digital platform' 'B2B Ecommerce' 'Online Media'\n",
      " 'Mobile Games' 'Food Production' 'Podcast' 'Battery' 'Content publishing'\n",
      " 'Water purification' 'Content commerce' 'Innovation Management'\n",
      " 'Celebrity Engagement' 'Personal Care' 'Cannabis startup' 'Blogging'\n",
      " 'BioTechnology' 'B2B Marketplace' 'Health care' 'Social audio'\n",
      " 'Fashion and lifestyle' 'Delivery service' 'B2B Manufacturing'\n",
      " 'Home Decor' 'Solar' 'TaaS startup' 'Manufacturing startup'\n",
      " 'Vehicle repair startup' 'Advisory firm' 'Legaltech'\n",
      " 'Pollution control equiptment' 'Fashion & Lifestyle' 'D2C'\n",
      " 'Environmental Services' 'Merchandise' 'Facilities Services'\n",
      " 'Marketing & Advertising' 'Eyewear' 'D2C Business' 'NFT Marketplace'\n",
      " 'Consumer software' 'Social community' 'Fishery'\n",
      " 'Renewables & Environment' 'Online storytelling' 'Aviation' 'IT company'\n",
      " 'Environmental service' 'Job discovery platform' 'D2C Fashion'\n",
      " 'Heathcare' 'CRM' 'D2C startup' 'Innovation management'\n",
      " 'Community platform' 'Networking' 'Commercial Real Estate'\n",
      " 'Consumer service' 'Consumer goods' 'MarTech' 'Advertisement'\n",
      " 'Content creation' 'Augmented reality' 'Bike Rental' 'Beauty products'\n",
      " 'Tourism' 'FemTech' 'Cultural' 'Supply chain platform' 'Social platform'\n",
      " 'Real estate' 'AI company' 'Sports startup' 'Matrimony' 'Crypto'\n",
      " 'Clothing' 'Analytics' 'IoT platform' 'Commerce' 'Defense & Space'\n",
      " 'Business Supplies & Equipment' 'NFT' 'Oil & Energy'\n",
      " 'Company-as-a-Service' 'Textiles' 'Professional Training & Coaching'\n",
      " 'Maritime' 'Housing Marketplace' 'Furniture Rental' 'Telecommunications'\n",
      " 'Equity Management' 'Cloud kitchen' 'Community' 'Higher Education'\n",
      " 'Mechanical Or Industrial Engineering' 'D2C jewellery'\n",
      " 'Sales and Distribution' 'Information Services'\n",
      " 'Translation & Localization' 'Investment Banking' 'Femtech' 'sports'\n",
      " 'Foootwear' 'Legal Services' 'Arts & Crafts' 'Investment Management'\n",
      " 'Management Consulting' 'B2B startup'\n",
      " 'Sochcast is an Audio experiences company that give the listener and creators an Immersive Audio experience'\n",
      " 'Design' 'B2B Travel' 'Manchester, Greater Manchester' 'Product studio'\n",
      " 'Aviation & Aerospace' 'Staffing & Recruiting']\n"
     ]
    }
   ],
   "source": [
    "# All unique values were printed to check data structure, anomalites, repeations and errors\n",
    "\n",
    "# Get all unique values in the 'sector' column along with their indexes\n",
    "unique_sectors = merged_data['sector'].unique()\n",
    "\n",
    "print (unique_sectors)"
   ]
  },
  {
   "cell_type": "markdown",
   "metadata": {},
   "source": [
    "The sector column had a lot of reapeted sector names with different value characteristcs, hence appearing to be unique, the values were mixed up with upper case values, lower case values, wrong puntuations, spelling errors"
   ]
  },
  {
   "cell_type": "code",
   "execution_count": 20,
   "metadata": {},
   "outputs": [],
   "source": [
    "# Mapping dictionary for sector cleaning\n",
    "sector_mapping = {\n",
    "    'FinTech': ['FinTech', 'fintech', 'Financial Technology', 'Fintech'],\n",
    "    'EdTech': ['EdTech', 'Edtech', 'Education Technology'],\n",
    "    'E-commerce': ['E-commerce', 'Ecommerce', 'ecommerce', 'e-commerce'],\n",
    "    'AI': ['AI', 'Artificial Intelligence', 'artificial intelligence'],\n",
    "    'Health': ['Health', 'healthcare', 'Health Care', 'healthtech', 'Healthcare'],\n",
    "    'Food & Beverage': ['Food & Beverage', 'Foodtech', 'Food and Beverages', 'Food Industry', 'Food devlivery', ' Food Delivery' 'Food & tech', 'Foodtech & Logistics', 'Food & Nutrition', 'Food & Bevarages'],\n",
    "    'Automotive': ['Automotive', 'Automobile', 'Automobiles', 'Automobile Technology', 'automotive tech'],\n",
    "    'Logistics': ['Logistics', 'logistics', 'Transport & Rentals', 'Transport', 'Logitech', 'Transportation', 'logistics & Supply Chain'],\n",
    "    'Fashion': ['Fashion', 'Fashion startup', 'Fashion Tech', 'Fashion and lifestyle', 'Fashion & Lifestyle', 'Fashion & Lifestyle', 'Fashion & Lifestyle', 'Fashion & Lifestyle', 'Fashion & Lifestyle', 'FMCG', 'Fashion & Lifestyle', 'Fashion & Lifestyle', 'fashion and lifestyle', 'fashion & lifestyle', 'Fashion & Lifestyle'],\n",
    "    'CleanTech': ['CleanTech', 'Cleantech', 'Renewables & Environment', 'Clean Energy', 'Pollution control equiptment', 'Renewable player', 'Clean energy', 'Renewable Energy'],\n",
    "    'Real Estate': ['Real Estate', 'Real estate', 'Commercial Real Estate', 'Housing', 'Housing Marketplace', 'Housing & Rentals', 'housing & Rentals'],\n",
    "    'Tech': ['Tech', 'technology', 'Technology', 'Techonology', 'Tech company', 'tech startup', 'IT', 'IT company'],\n",
    "    'SaaS': ['SaaS', 'Saas', 'SaaS startup', 'SaaS platform'],\n",
    "    'Retail': ['Retail', 'Retail Tech', 'Retail startup', 'Retail Aggregator'],\n",
    "    'Marketing': ['Marketing', 'marketing', 'Marketing company', 'Marketing & Customer loyalty', 'MarTech'],\n",
    "    'Blockchain': ['Blockchain', 'Cryptocurrency', 'blockchain'],\n",
    "    'Social Media': ['Social Media', 'Social network', 'social media', 'Social e-commerce', 'Social Network'],\n",
    "    'Entertainment': ['Entertainment', 'Digital Entertainment', 'media', 'Media', 'Online Media', 'Media Tech'],\n",
    "    'Travel': ['Travel', 'TravelTech', 'Tourism', 'Tourism & EV', 'Travel tech'],\n",
    "    'Finance': ['Finance', 'Financial Services', 'Finance company', 'Financial Technology', 'financial services', 'Financial Exchanges', 'financial technology', 'Venture capitalist', 'Venture capital', 'Venture Capital', 'Capital Markets', 'Investment Management', 'Investment', 'investment', 'Investment Banking', 'investment Management', 'Investment', 'Impact Investing', 'impact investing', 'FinTech & Financial Services', 'FinTech'],\n",
    "    'E-learning': ['E-learning', 'E-Learning', 'EdtTech', 'EdTech', 'EdTech Startup', 'Education', 'education', 'Higher Education', 'continuing education', 'Education Management', 'Education Technology', 'Educational'],\n",
    "    'AI & Tech': ['AI & Tech', 'AI and tech'],\n",
    "    'Security': ['Security', 'Cybersecurity', 'Network Security'],\n",
    "    'Insurance': ['Insurance', 'Insurance technology', 'insurtech', 'Insurance Tech', 'Health Insurance', 'Life Insurance', 'Property Insurance', 'insurance tech'],\n",
    "    'HR': ['HR', 'HR Tech', 'HRTech', 'Human Resources', 'hrtech'],\n",
    "    'Beauty': ['Beauty', 'beauty', 'Beauty & wellness', 'Beauty & Personal Care', 'Beauty & Personal Care'],\n",
    "    'Agriculture': ['Agriculture', 'AgriTech', 'Agri tech', 'Agri tech', 'Agri tech', 'Agri tech', 'Agriculture Tech', 'AgriTech', 'AgTech', 'Agri tech'],\n",
    "    'Energy': ['Energy', 'Solar', 'Clean Energy', 'Energy Storage', 'Solar solution', 'Renewable Energy', 'Energy Management', 'Energy', 'Natural Resources', 'electricity', 'Solar Monitoring Company', 'solar', 'Renewable Energy', 'solar'],\n",
    "    'Mobility': ['Mobility', 'MoEVing', 'Mobility tech', 'Mobility/Transport', 'Mobility & Transport', 'Mobility & Technology', 'Mobility Services', 'Mobility', 'Mobility & EV', 'Mobility & EV', 'Mobility & EV', 'Mobility', 'Mobility', 'Mobility & Tech', 'Mobility'],\n",
    "    'Manufacturing': ['Manufacturing', 'Manufacturing startup', 'Manufacturing startup', 'manufacturing', 'Manufacturing startup'],\n",
    "    'D2C': ['D2C', 'D2C Business', 'D2C Fashion', 'D2C jewellery'],\n",
    "    'Data Science': ['Data Science', 'Data Analytics', 'data science', 'data analytics'],\n",
    "    'Telecommunications': ['Telecommunications', 'Telecommunication'],\n",
    "    'Pharmaceutical': ['Pharmaceutical', 'pharmaceutical']\n",
    "}\n",
    "\n",
    "# Function to map sector values\n",
    "def map_sector(sector):\n",
    "    for key, values in sector_mapping.items():\n",
    "        if sector in values:\n",
    "            return key\n",
    "    return sector  # Return original value if not found\n",
    "\n",
    "# Apply mapping function to 'sector' column\n",
    "merged_data['sector'] = merged_data['sector'].apply(map_sector)\n"
   ]
  },
  {
   "cell_type": "markdown",
   "metadata": {},
   "source": [
    "#### stage"
   ]
  },
  {
   "cell_type": "code",
   "execution_count": 21,
   "metadata": {},
   "outputs": [
    {
     "name": "stdout",
     "output_type": "stream",
     "text": [
      "['Seed' 'Series A' 'Angel' 'Series B' 'Pre-Seed' 'Private Equity'\n",
      " 'Venture - Series Unknown' 'Grant' 'Debt Financing' 'Post-IPO Debt'\n",
      " 'Series H' 'Series C' 'Series E' 'Corporate Round' 'Undisclosed'\n",
      " 'https://docs.google.com/spreadsheets/d/1x9ziNeaz6auNChIHnMI8U6kS7knTr3byy_YBGfQaoUA/edit#gid=1861303593'\n",
      " 'Series D' 'Secondary Market' 'Post-IPO Equity' 'Non-equity Assistance'\n",
      " 'Funding Round' nan 'Fresh funding' 'Pre series A' 'Series G'\n",
      " 'Post series A' 'Seed funding' 'Seed fund' 'Series F' 'Series B+'\n",
      " 'Seed round' 'Pre-series A' 'Pre-seed' 'Pre-series' 'Debt' 'Pre-series C'\n",
      " 'Pre-series B' 'Bridge' 'Series B2' 'Pre- series A' 'Edge' 'Pre-Series B'\n",
      " 'Seed A' 'Series A-1' 'Seed Funding' 'Pre-seed Round'\n",
      " 'Seed Round & Series A' 'Pre Series A' 'Pre seed Round' 'Angel Round'\n",
      " 'Pre series A1' 'Series E2' 'Seed Round' 'Bridge Round' 'Pre seed round'\n",
      " 'Pre series B' 'Pre series C' 'Seed Investment' 'Series D1' 'Mid series'\n",
      " 'Series C, D' '$1200000' 'Seed+' 'Series F2' 'Series A+' 'Series B3' 'PE'\n",
      " 'Series F1' 'Pre-series A1' '$300000' 'Early seed' '$6000000' '$1000000'\n",
      " 'Seies A' 'Series A2' 'Series I']\n"
     ]
    }
   ],
   "source": [
    "# Print the unique values in the 'stage' column\n",
    "unique_stages = merged_data['stage'].unique()\n",
    "print(unique_stages)"
   ]
  },
  {
   "cell_type": "code",
   "execution_count": 22,
   "metadata": {},
   "outputs": [
    {
     "name": "stdout",
     "output_type": "stream",
     "text": [
      "['Seed' 'Series A' 'Angel' 'Series B' 'Pre-Seed' 'Private Equity' 'Grant'\n",
      " 'Debt Financing' 'Post-IPO Debt' 'Series H' 'Series C' 'Series E'\n",
      " 'Corporate Round' 'Undisclosed'\n",
      " 'https://docs.google.com/spreadsheets/d/1x9ziNeaz6auNChIHnMI8U6kS7knTr3byy_YBGfQaoUA/edit#gid=1861303593'\n",
      " 'Series D' 'Secondary Market' 'Post-IPO Equity' 'Non-equity Assistance'\n",
      " 'Funding Round' nan 'Fresh funding' 'Pre series A' 'Series G'\n",
      " 'Post series A' 'Seed fund' 'Series F' 'Seed round' 'Pre-series A'\n",
      " 'Pre-seed' 'Pre-series' 'Pre-series C' 'Pre-series B' 'Bridge'\n",
      " 'Pre- series A' 'Edge' 'Pre-Series B' 'Seed A' 'Pre-Series A'\n",
      " 'Pre seed Round' 'Angel Round' 'Seed Round' 'Bridge Round'\n",
      " 'Pre seed round' 'Pre series B' 'Pre series C' 'Mid series' '$1200000'\n",
      " 'PE' '$300000' 'Early seed' '$6000000' '$1000000' 'Seies A' 'Series I']\n"
     ]
    }
   ],
   "source": [
    "# Define the mapping dictionary\n",
    "stage_mapping = {\n",
    "    'Pre-Series A': ['Pre-Series A', 'Pre Series A', 'Pre series A1', 'Series A2'],\n",
    "    'Pre-Series B': ['Pre-Series B', 'Pre Series B'],\n",
    "    'Series B': ['Series B', 'Series B3', 'Series B+', 'Series B2', 'Venture - Series Unknown', 'Debt'],\n",
    "    'Series A': ['Series A+', 'Series A-1', 'Series A', 'Seed Round & Series A', 'Pre-series A1'],\n",
    "    'Series F': ['Series F', 'Series F2', 'Series F1'],\n",
    "    'Seed': ['Seed Investment', 'Seed Funding', 'Seed funding', 'Seed+', 'Pre-seed Round'],\n",
    "    'Series E': ['Series E', 'Series E2'],\n",
    "    'Pre-Series C': ['Pre-Series C', 'Pre Series C'],\n",
    "    'Series C' : ['Series C, D'],\n",
    "    'Series D': ['Series D1']\n",
    "}\n",
    "\n",
    "# Invert the mapping dictionary to map individual variations to their standard stage names\n",
    "inverted_mapping = {v: k for k, values in stage_mapping.items() for v in values}\n",
    "\n",
    "# Apply the mapping to the 'stage' column permanently\n",
    "merged_data['stage'] = merged_data['stage'].replace(inverted_mapping)\n",
    "\n",
    "# Display the updated DataFrame to verify the changes\n",
    "print(merged_data['stage'].unique())\n",
    "\n"
   ]
  },
  {
   "cell_type": "code",
   "execution_count": 23,
   "metadata": {},
   "outputs": [],
   "source": [
    "# Replace specified values with np.nan in the 'stage' column\n",
    "values_to_replace = [\n",
    "    'https://docs.google.com/spreadsheets/d/1x9ziNeaz6auNChIHnMI8U6kS7knTr3byy_YBGfQaoUA/edit#gid=1861303593',\n",
    "    '$1200000',\n",
    "    'PE',\n",
    "    'Bridge'\n",
    "]\n",
    "\n",
    "# Apply the replacement permanently\n",
    "merged_data['stage'].replace(values_to_replace, np.nan, inplace=True)\n",
    "\n"
   ]
  },
  {
   "cell_type": "markdown",
   "metadata": {},
   "source": [
    "#### Amount Column"
   ]
  },
  {
   "cell_type": "code",
   "execution_count": 31,
   "metadata": {},
   "outputs": [
    {
     "name": "stdout",
     "output_type": "stream",
     "text": [
      "— - 148\n",
      "\\$ - 1289\n",
      "\\$Undisclosed - 73\n",
      "Undisclosed - 128\n",
      "None - 3\n",
      "nan - 259\n",
      "Series C - 0\n",
      "Seed - 0\n",
      "Pre-series A - 0\n",
      "₹ - 144\n",
      "Numeric values - 2617\n"
     ]
    }
   ],
   "source": [
    "# All unique values in amount column was printed to detect characteristics of the values below\n",
    "\n",
    "# Additional characteristics to count\n",
    "characteristics = ['—', '\\$', '\\$Undisclosed', 'Undisclosed', 'None', 'nan', 'Series C', 'Seed', 'Pre-series A', '₹']\n",
    "\n",
    "# Initialize counts dictionary\n",
    "counts = {char: 0 for char in characteristics}\n",
    "\n",
    "# Count occurrences of each characteristic\n",
    "for characteristic in characteristics:\n",
    "    if characteristic in {'—', '\\$', '\\$Undisclosed', 'Undisclosed', 'None', 'nan', 'Series C', 'Seed', 'Pre-series A', '₹'}:\n",
    "        count = merged_data['Amount'].astype(str).str.contains(characteristic, regex=True, na=False).sum()\n",
    "    else:\n",
    "        count = merged_data['Amount'].astype(str).str.contains(f\"\\\\b{characteristic}\\\\b\", regex=True, na=False).sum()\n",
    "    counts[characteristic] = count\n",
    "\n",
    "# Count occurrences of numeric values\n",
    "numeric_count = merged_data['Amount'].notnull().sum()\n",
    "\n",
    "# Print counts\n",
    "for characteristic, count in counts.items():\n",
    "    print(f'{characteristic} - {count}')\n",
    "print(f'Numeric values - {numeric_count}')\n",
    "\n",
    "\n"
   ]
  },
  {
   "cell_type": "code",
   "execution_count": 32,
   "metadata": {},
   "outputs": [
    {
     "name": "stdout",
     "output_type": "stream",
     "text": [
      "Index, Funding Amount, Stage\n"
     ]
    }
   ],
   "source": [
    "# Specify the stages to search for\n",
    "stages_to_search = ['Series C', 'Seed', 'Pre-series A']\n",
    "\n",
    "# Filter the DataFrame for rows containing the specified stages in Amount\n",
    "filtered_data = merged_data[merged_data['Amount'].isin(stages_to_search)]\n",
    "\n",
    "# Print column names\n",
    "print(\"Index, Funding Amount, Stage\")\n",
    "\n",
    "# Print index, Amount, and corresponding stage side by side\n",
    "for index, row in filtered_data.iterrows():\n",
    "    print(f'{index}, {row[\"Amount\"]}, {row[\"stage\"]}')\n"
   ]
  },
  {
   "cell_type": "code",
   "execution_count": 33,
   "metadata": {},
   "outputs": [],
   "source": [
    "# Specify the stages to search for\n",
    "stages_to_search = ['Series C', 'Seed', 'Pre-series A']\n",
    "\n",
    "# Replace values in 'stage' column where 'funding_amount' matches the specified stages\n",
    "merged_data.loc[merged_data['Amount'].isin(stages_to_search), 'stage'] = merged_data['Amount']\n",
    "\n",
    "# Replace values in 'Amount' column with NaN where it matches the specified stages\n",
    "merged_data.loc[merged_data['Amount'].isin(stages_to_search), 'Amount'] = float('nan')\n"
   ]
  },
  {
   "cell_type": "code",
   "execution_count": 34,
   "metadata": {},
   "outputs": [
    {
     "name": "stdout",
     "output_type": "stream",
     "text": [
      "Index, Funding Amount, Stage\n",
      "1912, nan, Series C\n",
      "1926, nan, Series C\n",
      "1927, nan, Seed\n",
      "2215, nan, Pre-series A\n"
     ]
    }
   ],
   "source": [
    "# Specify the indexes to verify\n",
    "indexes_to_verify = [1912, 1926, 1927, 2215]\n",
    "\n",
    "# Filter the DataFrame for the specified indexes\n",
    "filtered_data = merged_data.loc[indexes_to_verify]\n",
    "\n",
    "# Print index, funding_amount, and stage side by side for verification\n",
    "print(\"Index, Funding Amount, Stage\")\n",
    "for index, row in filtered_data.iterrows():\n",
    "    print(f'{index}, {row[\"Amount\"]}, {row[\"stage\"]}')\n"
   ]
  },
  {
   "cell_type": "markdown",
   "metadata": {},
   "source": [
    "#### Currency conversions"
   ]
  },
  {
   "cell_type": "markdown",
   "metadata": {},
   "source": [
    "Exchage Rate\n",
    "[Source:OFX](httpshttps://www.ofx.com/en-au/forex-news/historical-exchange-rates/yearly-average-rates/://)"
   ]
  },
  {
   "cell_type": "code",
   "execution_count": 35,
   "metadata": {},
   "outputs": [
    {
     "name": "stdout",
     "output_type": "stream",
     "text": [
      "Average exchange rate: 0.0146\n"
     ]
    }
   ],
   "source": [
    "\n",
    "# Provided exchange rates between 2018 - 2021\n",
    "exchange_rates = {\n",
    "    2018: 0.014649,\n",
    "}\n",
    "\n",
    "# Calculate the average exchange rate\n",
    "average_exchange_rate = sum(exchange_rates.values()) / len(exchange_rates)\n",
    "\n",
    "# Print the average exchange rate\n",
    "print(f'Average exchange rate: {average_exchange_rate:.4f}')\n",
    "\n"
   ]
  },
  {
   "cell_type": "code",
   "execution_count": 37,
   "metadata": {},
   "outputs": [],
   "source": [
    "\n",
    "# Define the exchange rate\n",
    "exchange_rate = 0.0146\n",
    "\n",
    "# Replace '—' in funding_amount with np.nan\n",
    "merged_data['Amount'].replace('—', np.nan, inplace=True)\n",
    "\n",
    "# Replace 'None' with np.nan\n",
    "merged_data['Amount'].replace('None', np.nan, inplace=True)\n",
    "\n",
    "# Convert Amount to string type\n",
    "merged_data['Amount'] = merged_data['Amount'].astype(str)\n",
    "\n",
    "# Remove dollar symbol and commas, then convert to float\n",
    "merged_data['Amount'] = merged_data['Amount'].str.replace('$', '', regex=False)\n",
    "merged_data['Amount'] = merged_data['Amount'].str.replace(',', '', regex=False)\n",
    "\n",
    "# Convert Rupee values to USD and remove the rupee symbol\n",
    "merged_data['Amount'] = merged_data['Amount'].apply(\n",
    "    lambda x: float(x.replace('₹', '')) * exchange_rate if isinstance(x, str) and '₹' in x else x\n",
    ")\n",
    "\n",
    "# Convert Amount to float type\n",
    "merged_data['Amount'] = pd.to_numeric(merged_data['Amount'], errors='coerce')\n",
    "\n"
   ]
  },
  {
   "cell_type": "markdown",
   "metadata": {},
   "source": [
    "#### Location"
   ]
  },
  {
   "cell_type": "code",
   "execution_count": 38,
   "metadata": {},
   "outputs": [],
   "source": [
    "\n",
    "# Replace missing values with an empty string as a placeholder\n",
    "merged_data['location'] = merged_data['location'].fillna('')\n",
    "\n",
    "# Replace empty strings with the mode (most frequent city)\n",
    "mode_city = merged_data['location'].mode()[0]\n",
    "merged_data['location'] = merged_data['location'].replace('', mode_city)\n",
    "\n",
    "# Extract city names from 'location' column\n",
    "merged_data['location'] = merged_data['location'].apply(lambda x: x.split(',')[0].strip())\n"
   ]
  },
  {
   "cell_type": "code",
   "execution_count": 39,
   "metadata": {},
   "outputs": [],
   "source": [
    "# Renaming some values in the location column\n",
    "# Define the mapping for name changes\n",
    "name_changes = {\n",
    "    'Bangalore': 'Bangalore',\n",
    "    'Bangalore City': 'Bangalore',\n",
    "    'Bengaluru': 'Bangalore',\n",
    "    'Dheli': 'New Delhi',\n",
    "    'Gurugram\\t#REF!' : 'Gurugram',\n",
    "    'New dheli': 'New Delhi'\n",
    "}\n",
    "# Replace the names in the 'location' column\n",
    "merged_data['location'] = merged_data['location'].replace(name_changes)"
   ]
  },
  {
   "cell_type": "code",
   "execution_count": 40,
   "metadata": {},
   "outputs": [
    {
     "name": "stdout",
     "output_type": "stream",
     "text": [
      "['Bangalore' 'Mumbai' 'Gurgaon' 'Noida' 'Hyderabad' 'Kalkaji' 'Delhi'\n",
      " 'India' 'Hubli' 'New Delhi' 'Chennai' 'Mohali' 'Kolkata' 'Pune' 'Jodhpur'\n",
      " 'Kanpur' 'Ahmedabad' 'Azadpur' 'Haryana' 'Cochin' 'Faridabad' 'Jaipur'\n",
      " 'Kota' 'Anand' 'Belgaum' 'Thane' 'Margão' 'Indore' 'Alwar' 'Kannur'\n",
      " 'Trivandrum' 'Ernakulam' 'Kormangala' 'Uttar Pradesh' 'Andheri'\n",
      " 'Mylapore' 'Ghaziabad' 'Kochi' 'Powai' 'Guntur' 'Kalpakkam' 'Bhopal'\n",
      " 'Coimbatore' 'Worli' 'Alleppey' 'Chandigarh' 'Guindy' 'Lucknow'\n",
      " 'Telangana' 'Gurugram' 'Surat' 'Uttar pradesh' 'Rajasthan' 'Tirunelveli'\n",
      " 'Singapore' 'Gujarat' 'Kerala' 'Frisco' 'California' 'Dhingsara'\n",
      " 'New York' 'Patna' 'San Francisco' 'San Ramon' 'Paris' 'Plano' 'Sydney'\n",
      " 'San Francisco Bay Area' 'Bangaldesh' 'London' 'Milano' 'Palmwoods'\n",
      " 'France' 'Samastipur' 'Irvine' 'Tumkur' 'Newcastle Upon Tyne' 'Shanghai'\n",
      " 'Jiaxing' 'Rajastan' 'Ludhiana' 'Dehradun' 'San Franciscao' 'Tangerang'\n",
      " 'Berlin' 'Seattle' 'Riyadh' 'Seoul' 'Bangkok' 'Warangal' 'Hyderebad'\n",
      " 'Odisha' 'Bihar' 'Goa' 'Tamil Nadu' 'Banglore' 'Ahmadabad' 'Small Towns'\n",
      " 'Rajsamand' 'Ranchi' 'Computer Games' 'Vadodara' 'Food & Beverages'\n",
      " 'Pharmaceuticals\\t#REF!' 'Nagpur' 'West Bengal' 'Samsitpur' 'Silvassa'\n",
      " 'Thiruvananthapuram' 'Roorkee' 'Ambernath' 'Panchkula' 'Mangalore'\n",
      " 'Telugana' 'Bhubaneswar' 'Kottayam' 'Beijing' 'Panaji' 'Satara' 'Orissia'\n",
      " 'Santra' 'Mountain View' 'Jharkhand' 'Bhilwara' 'Guwahati'\n",
      " 'Online Media\\t#REF!' 'Information Technology & Services' 'The Nilgiris'\n",
      " 'Gandhinagar']\n"
     ]
    }
   ],
   "source": [
    "unique_locations = merged_data['location'].unique()\n",
    "print(unique_locations)"
   ]
  },
  {
   "cell_type": "markdown",
   "metadata": {},
   "source": [
    "#### Investor column"
   ]
  },
  {
   "cell_type": "code",
   "execution_count": 41,
   "metadata": {},
   "outputs": [
    {
     "name": "stdout",
     "output_type": "stream",
     "text": [
      "[nan 'Sixth Sense Ventures' 'General Atlantic' ... 'Owl Ventures'\n",
      " 'Winter Capital, ETS, Man Capital' '3one4 Capital, Kalaari Capital']\n"
     ]
    }
   ],
   "source": [
    "# Print unique values in the 'Investor' column\n",
    "unique_investors = merged_data['Investor'].unique()\n",
    "print(unique_investors)"
   ]
  },
  {
   "cell_type": "code",
   "execution_count": 42,
   "metadata": {},
   "outputs": [],
   "source": [
    "# Define the values to drop\n",
    "values_to_drop = [\n",
    "    '1000000', '#REF!', '$Undisclosed', '2000000', '$1000000', '$22000000', '$5000000', 'http://100x.vc/'\n",
    "]\n",
    "\n",
    "# Replace specified values with NaN in the 'Investor' column\n",
    "merged_data['Investor'] = merged_data['Investor'].replace(values_to_drop, pd.NA)"
   ]
  },
  {
   "cell_type": "code",
   "execution_count": 43,
   "metadata": {},
   "outputs": [
    {
     "name": "stdout",
     "output_type": "stream",
     "text": [
      "<class 'pandas.core.frame.DataFrame'>\n",
      "RangeIndex: 2879 entries, 0 to 2878\n",
      "Data columns (total 11 columns):\n",
      " #   Column            Non-Null Count  Dtype  \n",
      "---  ------            --------------  -----  \n",
      " 0   company_name      2790 non-null   object \n",
      " 1   sector            2861 non-null   object \n",
      " 2   stage             1934 non-null   object \n",
      " 3   Amount            2312 non-null   float64\n",
      " 4   location          2879 non-null   object \n",
      " 5   description       2879 non-null   object \n",
      " 6   ï»¿Company/Brand  89 non-null     object \n",
      " 7   Founded           2110 non-null   float64\n",
      " 8   Founders          2334 non-null   object \n",
      " 9   Investor          2246 non-null   object \n",
      " 10  Year              2879 non-null   int64  \n",
      "dtypes: float64(2), int64(1), object(8)\n",
      "memory usage: 247.5+ KB\n"
     ]
    }
   ],
   "source": [
    "merged_data.info()"
   ]
  },
  {
   "cell_type": "code",
   "execution_count": 45,
   "metadata": {},
   "outputs": [],
   "source": [
    "# Convert 'Amount' dtype to float\n",
    "merged_data['Amount'] = merged_data['Amount'].astype(float)\n"
   ]
  },
  {
   "cell_type": "code",
   "execution_count": 46,
   "metadata": {},
   "outputs": [
    {
     "name": "stdout",
     "output_type": "stream",
     "text": [
      "Number of duplicate rows: 23\n"
     ]
    }
   ],
   "source": [
    "# Check for duplicates in merged_data\n",
    "duplicate_rows = merged_data.duplicated().sum()\n",
    "\n",
    "# Print the number of duplicate rows\n",
    "print(\"Number of duplicate rows:\", duplicate_rows)"
   ]
  },
  {
   "cell_type": "code",
   "execution_count": 47,
   "metadata": {},
   "outputs": [
    {
     "name": "stdout",
     "output_type": "stream",
     "text": [
      "Number of duplicate rows after dropping: 0\n"
     ]
    }
   ],
   "source": [
    "# Drop duplicate rows from merged_data\n",
    "merged_data.drop_duplicates(inplace=True)\n",
    "\n",
    "# Verify if duplicates are dropped\n",
    "print(\"Number of duplicate rows after dropping:\", merged_data.duplicated().sum())\n"
   ]
  },
  {
   "cell_type": "code",
   "execution_count": 48,
   "metadata": {},
   "outputs": [
    {
     "data": {
      "text/plain": [
       "company_name          89\n",
       "sector                18\n",
       "stage                936\n",
       "Amount               563\n",
       "location               0\n",
       "description            0\n",
       "ï»¿Company/Brand    2767\n",
       "Founded              768\n",
       "Founders             544\n",
       "Investor             630\n",
       "Year                   0\n",
       "dtype: int64"
      ]
     },
     "execution_count": 48,
     "metadata": {},
     "output_type": "execute_result"
    }
   ],
   "source": [
    "#missing value\n",
    "merged_data.isna().sum()"
   ]
  },
  {
   "cell_type": "code",
   "execution_count": 49,
   "metadata": {},
   "outputs": [],
   "source": [
    "'''Drop column irrelevant to analytical question'''\n",
    "\n",
    "# Drop the \"Founded\" and \"Founders\" columns from merged_data\n",
    "merged_data.drop(columns=['Founded', 'Founders'], inplace=True)"
   ]
  },
  {
   "cell_type": "code",
   "execution_count": 51,
   "metadata": {},
   "outputs": [],
   "source": [
    "# Impute missing values in 'sector' with mode\n",
    "merged_data['sector'].fillna(merged_data['sector'].mode()[0], inplace=True)\n",
    "\n",
    "# Impute missing values in 'stage' with forward fill\n",
    "merged_data['stage'].fillna(method='ffill', inplace=True)\n",
    "\n",
    "# Impute missing values in 'Amount' with median\n",
    "merged_data['Amount'].fillna(merged_data['Amount'].median(), inplace=True)\n",
    "\n",
    "# Impute missing values in 'Investor' with mode\n",
    "merged_data['Investor'].fillna(merged_data['Investor'].mode()[0], inplace=True)\n"
   ]
  },
  {
   "cell_type": "code",
   "execution_count": 52,
   "metadata": {},
   "outputs": [
    {
     "name": "stdout",
     "output_type": "stream",
     "text": [
      "<class 'pandas.core.frame.DataFrame'>\n",
      "Index: 2856 entries, 0 to 2878\n",
      "Data columns (total 9 columns):\n",
      " #   Column            Non-Null Count  Dtype  \n",
      "---  ------            --------------  -----  \n",
      " 0   company_name      2767 non-null   object \n",
      " 1   sector            2856 non-null   object \n",
      " 2   stage             2856 non-null   object \n",
      " 3   Amount            2856 non-null   float64\n",
      " 4   location          2856 non-null   object \n",
      " 5   description       2856 non-null   object \n",
      " 6   ï»¿Company/Brand  89 non-null     object \n",
      " 7   Investor          2856 non-null   object \n",
      " 8   Year              2856 non-null   int64  \n",
      "dtypes: float64(1), int64(1), object(7)\n",
      "memory usage: 223.1+ KB\n"
     ]
    }
   ],
   "source": [
    "merged_data.info()"
   ]
  },
  {
   "cell_type": "code",
   "execution_count": 53,
   "metadata": {},
   "outputs": [
    {
     "data": {
      "text/html": [
       "<div>\n",
       "<style scoped>\n",
       "    .dataframe tbody tr th:only-of-type {\n",
       "        vertical-align: middle;\n",
       "    }\n",
       "\n",
       "    .dataframe tbody tr th {\n",
       "        vertical-align: top;\n",
       "    }\n",
       "\n",
       "    .dataframe thead th {\n",
       "        text-align: right;\n",
       "    }\n",
       "</style>\n",
       "<table border=\"1\" class=\"dataframe\">\n",
       "  <thead>\n",
       "    <tr style=\"text-align: right;\">\n",
       "      <th></th>\n",
       "      <th>count</th>\n",
       "      <th>mean</th>\n",
       "      <th>std</th>\n",
       "      <th>min</th>\n",
       "      <th>25%</th>\n",
       "      <th>50%</th>\n",
       "      <th>75%</th>\n",
       "      <th>max</th>\n",
       "    </tr>\n",
       "  </thead>\n",
       "  <tbody>\n",
       "    <tr>\n",
       "      <th>Amount</th>\n",
       "      <td>2856.0</td>\n",
       "      <td>9.848897e+07</td>\n",
       "      <td>3.097961e+09</td>\n",
       "      <td>876.0</td>\n",
       "      <td>1000000.0</td>\n",
       "      <td>3000000.0</td>\n",
       "      <td>8000000.0</td>\n",
       "      <td>1.500000e+11</td>\n",
       "    </tr>\n",
       "    <tr>\n",
       "      <th>Year</th>\n",
       "      <td>2856.0</td>\n",
       "      <td>2.020018e+03</td>\n",
       "      <td>1.087759e+00</td>\n",
       "      <td>2018.0</td>\n",
       "      <td>2020.0</td>\n",
       "      <td>2020.0</td>\n",
       "      <td>2021.0</td>\n",
       "      <td>2.021000e+03</td>\n",
       "    </tr>\n",
       "  </tbody>\n",
       "</table>\n",
       "</div>"
      ],
      "text/plain": [
       "         count          mean           std     min        25%        50%  \\\n",
       "Amount  2856.0  9.848897e+07  3.097961e+09   876.0  1000000.0  3000000.0   \n",
       "Year    2856.0  2.020018e+03  1.087759e+00  2018.0     2020.0     2020.0   \n",
       "\n",
       "              75%           max  \n",
       "Amount  8000000.0  1.500000e+11  \n",
       "Year       2021.0  2.021000e+03  "
      ]
     },
     "execution_count": 53,
     "metadata": {},
     "output_type": "execute_result"
    }
   ],
   "source": [
    "merged_data.describe().T"
   ]
  },
  {
   "cell_type": "markdown",
   "metadata": {},
   "source": [
    "### Exploratory Data Analysis"
   ]
  },
  {
   "cell_type": "code",
   "execution_count": 54,
   "metadata": {},
   "outputs": [
    {
     "data": {
      "text/plain": [
       "Year\n",
       "2021    1190\n",
       "2020    1052\n",
       "2018     525\n",
       "2019      89\n",
       "Name: count, dtype: int64"
      ]
     },
     "execution_count": 54,
     "metadata": {},
     "output_type": "execute_result"
    }
   ],
   "source": [
    "# count the number of startup in each Funding Year\n",
    "Total_Startups_Funded = merged_data['Year'].value_counts()\n",
    "\n",
    "Total_Startups_Funded"
   ]
  },
  {
   "cell_type": "code",
   "execution_count": 86,
   "metadata": {},
   "outputs": [
    {
     "data": {
      "image/png": "[encoded data removed]",
      "text/plain": [
       "<Figure size 1200x500 with 1 Axes>"
      ]
     },
     "metadata": {},
     "output_type": "display_data"
    }
   ],
   "source": [
    "import matplotlib.pyplot as plt\n",
    "import seaborn as sns\n",
    "\n",
    "# count the number of startups in each city\n",
    "top_ten_loc = merged_data['location'].value_counts().head(10)\n",
    "\n",
    "# plot a horizontal bar chart to show the number of startups in each city\n",
    "plt.figure(figsize=(12, 5))\n",
    "sns.barplot(x=top_ten_loc.values, y=top_ten_loc.index,palette='turbo')\n",
    "plt.title('Top Ten Cities with Most Startups')\n",
    "plt.xlabel('Count')\n",
    "plt.ylabel('Cities')\n",
    "plt.show()"
   ]
  },
  {
   "cell_type": "code",
   "execution_count": 81,
   "metadata": {},
   "outputs": [
    {
     "data": {
      "image/png": "[encoded data removed]",
      "text/plain": [
       "<Figure size 1600x500 with 1 Axes>"
      ]
     },
     "metadata": {},
     "output_type": "display_data"
    }
   ],
   "source": [
    "\n",
    "# plot a line gragh to show the trend of startup with the period 2018 - 2021\n",
    "\n",
    "base_color = 'orange'\n",
    "# plot a bar chart to show the number of startups within each year\n",
    "plt.figure(figsize=(16, 5))\n",
    "plt.subplot(1, 2, 2)\n",
    "sns.countplot(\n",
    "    x='Year',  \n",
    "    data=merged_data, \n",
    "    color=base_color)\n",
    "\n",
    "plt.title('Number of Companies Funded In The Year 2018 - 2021')\n",
    "plt.show()"
   ]
  },
  {
   "cell_type": "code",
   "execution_count": 82,
   "metadata": {},
   "outputs": [
    {
     "data": {
      "text/plain": [
       "Text(0.5, 1.0, 'Trend of Startups over the period')"
      ]
     },
     "execution_count": 82,
     "metadata": {},
     "output_type": "execute_result"
    },
    {
     "data": {
      "image/png": "[encoded data removed]",
      "text/plain": [
       "<Figure size 1600x500 with 1 Axes>"
      ]
     },
     "metadata": {},
     "output_type": "display_data"
    }
   ],
   "source": [
    "plt.figure(figsize=(16, 5))\n",
    "plt.subplot(1, 2, 1)\n",
    "funding_year_count = merged_data.groupby(['Year'])['company_name'].count()\n",
    "funding_year_count.plot(color='#FFA500');\n",
    "plt.title('Trend of Startups over the period')"
   ]
  },
  {
   "cell_type": "code",
   "execution_count": 85,
   "metadata": {},
   "outputs": [
    {
     "data": {
      "text/plain": [
       "Text(0.5, 1.0, 'Average Funding Per Year')"
      ]
     },
     "execution_count": 85,
     "metadata": {},
     "output_type": "execute_result"
    },
    {
     "data": {
      "image/png": "[encoded data removed]",
      "text/plain": [
       "<Figure size 1500x500 with 1 Axes>"
      ]
     },
     "metadata": {},
     "output_type": "display_data"
    }
   ],
   "source": [
    "# get the average(mean) funding yearly\n",
    "average_funding_year= merged_data.groupby(['Year']).agg({'Amount': 'mean'})\n",
    "average_funding_year.reset_index(inplace=True)\n",
    "\n",
    "# print the average funding yearly\n",
    "# plot a bar chart to show the avearge funding yearly\n",
    "plt.figure(figsize=(15,  5))\n",
    "plt.subplot(1, 2, 1)\n",
    "sns.barplot(\n",
    "    data=average_funding_year,\n",
    "    x='Year',\n",
    "    y='Amount',\n",
    "    color=base_color)\n",
    "plt.title('Average Funding Per Year')"
   ]
  },
  {
   "cell_type": "code",
   "execution_count": 88,
   "metadata": {},
   "outputs": [
    {
     "data": {
      "image/png": "[encoded data removed]",
      "text/plain": [
       "<Figure size 800x500 with 1 Axes>"
      ]
     },
     "metadata": {},
     "output_type": "display_data"
    }
   ],
   "source": [
    "# check the top 10 cities with the most startups\n",
    "Top_ten_sectors = merged_data['sector'].value_counts().head(10)\n",
    "\n",
    "# plot a bar chart to show the top 10 sectors with the most number of startups\n",
    "plt.figure(figsize=(8, 5))\n",
    "sns.set_palette(\"turbo\")  # Set the turbo palette\n",
    "sns.barplot(x=Top_ten_sectors.values, y=Top_ten_sectors.index, palette='turbo')\n",
    "plt.title('Top 10 Sectors with the Most Startup')\n",
    "plt.xlabel('Number of Startups')\n",
    "plt.ylabel('Sector')\n",
    "plt.show()"
   ]
  },
  {
   "cell_type": "code",
   "execution_count": 100,
   "metadata": {},
   "outputs": [
    {
     "data": {
      "image/png": "[encoded data removed]",
      "text/plain": [
       "<Figure size 2000x500 with 1 Axes>"
      ]
     },
     "metadata": {},
     "output_type": "display_data"
    }
   ],
   "source": [
    "\n",
    "# plot a box plot to show the avearge funding yearly\n",
    "plt.figure(figsize=(20, 5))\n",
    "plt.subplot(1, 2, 2)\n",
    "sns.boxplot(data=merged_data, y='Amount', x='Year', palette='turbo')\n",
    "plt.title('Funding vs  Year')\n",
    "plt.ylim(-10,80000000)\n",
    "plt.show()"
   ]
  },
  {
   "cell_type": "markdown",
   "metadata": {},
   "source": [
    "### Hypothesis Testing "
   ]
  },
  {
   "cell_type": "markdown",
   "metadata": {},
   "source": [
    "**Null Hypothesis (H0):**\n",
    "The funding amounts received by various sectors in the Indian startup ecosystem did not show any significant variation from 2018 to 2021.\n",
    "\n",
    "**Alternative Hypothesis (H1):**\n",
    "The funding amounts received by various sectors in the Indian startup ecosystem showed significant variation from 2018 to 2021."
   ]
  },
  {
   "cell_type": "code",
   "execution_count": 102,
   "metadata": {},
   "outputs": [
    {
     "name": "stdout",
     "output_type": "stream",
     "text": [
      "F-Statistic: 0.022617019586451906\n",
      "P-Value: 0.9999999999999999\n",
      "Fail to reject Null Hypothesis. There is no significant difference in average funding amounts across sectors.\n"
     ]
    }
   ],
   "source": [
    "import scipy.stats as stats\n",
    "\n",
    "# Extract funding amounts for each sector\n",
    "sector_funding = [merged_data[merged_data['sector'] == sector]['Amount'] for sector in merged_data['sector'].unique()]\n",
    "\n",
    "# Perform one-way ANOVA\n",
    "f_statistic, p_value = stats.f_oneway(*sector_funding)\n",
    "\n",
    "alpha = 0.05\n",
    "\n",
    "# Print the results\n",
    "print(\"F-Statistic:\", f_statistic)\n",
    "print(\"P-Value:\", p_value)\n",
    "\n",
    "# Check for significance\n",
    "if p_value < alpha:\n",
    "    print(\"Reject Null Hypothesis. There is a significant difference in average funding amounts across sectors.\")\n",
    "else:\n",
    "    print(\"Fail to reject Null Hypothesis. There is no significant difference in average funding amounts across sectors.\")\n"
   ]
  },
  {
   "cell_type": "markdown",
   "metadata": {},
   "source": [
    "#### Answering the Business Questions "
   ]
  },
  {
   "cell_type": "markdown",
   "metadata": {},
   "source": [
    " *Analyze startup growth and funding trends.*"
   ]
  },
  {
   "cell_type": "code",
   "execution_count": 106,
   "metadata": {},
   "outputs": [
    {
     "data": {
      "text/plain": [
       "Text(0.5, 1.0, 'Trend of Startups ')"
      ]
     },
     "execution_count": 106,
     "metadata": {},
     "output_type": "execute_result"
    },
    {
     "data": {
      "image/png": "[encoded data removed]",
      "text/plain": [
       "<Figure size 1600x500 with 1 Axes>"
      ]
     },
     "metadata": {},
     "output_type": "display_data"
    }
   ],
   "source": [
    "\n",
    "\n",
    "\n",
    "plt.figure(figsize=(16, 5))\n",
    "plt.subplot(1, 2, 1)\n",
    "funding_year_count = merged_data.groupby(['Year'])['company_name'].count()\n",
    "funding_year_count.plot(color='#FFA500');\n",
    "plt.title('Trend of Startups ')\n",
    "\n"
   ]
  },
  {
   "cell_type": "code",
   "execution_count": 107,
   "metadata": {},
   "outputs": [
    {
     "data": {
      "text/plain": [
       "Year\n",
       "2021    1190\n",
       "2020    1052\n",
       "2018     525\n",
       "2019      89\n",
       "Name: count, dtype: int64"
      ]
     },
     "execution_count": 107,
     "metadata": {},
     "output_type": "execute_result"
    }
   ],
   "source": [
    "# count the number of startup in each Funding Year\n",
    "merged_data['Year'].value_counts()\n"
   ]
  },
  {
   "cell_type": "markdown",
   "metadata": {},
   "source": [
    "Summary \n",
    "\n",
    "From 2018 to 2021, we've seen a significant rise in the number of startups getting funded. However, there was a dip in 2019, with only 89 startups receiving funding, likely due to the economic uncertainty caused by the COVID-19 pandemic. Despite this, the trend after 2019 shows a promising economic rebound, indicating resilience and growth potential in the startup ecosystem."
   ]
  },
  {
   "cell_type": "markdown",
   "metadata": {},
   "source": [
    "*Examine the financial trends of Indian startups over four years, focusing on changes in average funding amounts and investor confidence* "
   ]
  },
  {
   "cell_type": "code",
   "execution_count": 115,
   "metadata": {},
   "outputs": [
    {
     "name": "stderr",
     "output_type": "stream",
     "text": [
      "No artists with labels found to put in legend.  Note that artists whose label start with an underscore are ignored when legend() is called with no argument.\n"
     ]
    },
    {
     "data": {
      "image/png": "[encoded data removed]",
      "text/plain": [
       "<Figure size 1000x600 with 1 Axes>"
      ]
     },
     "metadata": {},
     "output_type": "display_data"
    }
   ],
   "source": [
    "from scipy.stats import linregress\n",
    "# Filter data for the years 2018 to 2021\n",
    "filtered_data = merged_data[(merged_data['Year'] >= 2018) & (merged_data['Year'] <= 2021)]\n",
    "\n",
    "# Group data by year and calculate the average funding amount for each year\n",
    "average_funding_per_year = filtered_data.groupby('Year')['Amount'].mean()\n",
    "\n",
    "# Plotting\n",
    "plt.figure(figsize=(10, 6))\n",
    "plt.plot(average_funding_per_year.index, average_funding_per_year.values, color='steelblue', marker='o')\n",
    "\n",
    "# Add labels and title\n",
    "plt.title('Average Funding Amount per Year (2018-2021)', fontsize=16)\n",
    "plt.xlabel('Year', fontsize=14)\n",
    "plt.ylabel('Average Funding Amount ($)', fontsize=14)\n",
    "plt.xticks(average_funding_per_year.index, fontsize=12)\n",
    "plt.yticks(fontsize=12)\n",
    "plt.grid(True, linestyle='--', alpha=0.7)\n",
    "\n",
    "# Add values on top of each point with a slight offset for better visibility\n",
    "for i, height in enumerate(average_funding_per_year.values):\n",
    "    plt.text(average_funding_per_year.index[i], height + 0.5, \"${:.2f}M\".format(height), ha='center', va='bottom', fontsize=12)\n",
    "\n",
    "# Add legend\n",
    "plt.legend()\n",
    "\n",
    "plt.tight_layout()\n",
    "plt.show()"
   ]
  },
  {
   "cell_type": "code",
   "execution_count": null,
   "metadata": {},
   "outputs": [
    {
     "data": {
      "text/plain": [
       "Year\n",
       "2021    1190\n",
       "2020    1052\n",
       "2018     525\n",
       "2019      89\n",
       "Name: count, dtype: int64"
      ]
     },
     "metadata": {},
     "output_type": "display_data"
    }
   ],
   "source": [
    "# count the number of startup in each Funding Year\n",
    "Total_Startups_Funded = merged_data['Year'].value_counts()\n",
    "\n",
    "Total_Startups_Funded"
   ]
  },
  {
   "cell_type": "markdown",
   "metadata": {},
   "source": [
    "Observation\n",
    "\n",
    "Over the four-year period from 2018 to 2021, Indian startup financial landscape experienced significant growth, with average funding amounts increasing dramatically. From $13.4 million in 2018 to $151.3 million in 2021, this suggests increasing investor confidence and a more mature startup ecosystem."
   ]
  },
  {
   "cell_type": "markdown",
   "metadata": {},
   "source": [
    "3. *Identify the booming locations withing the ecosystem and which top city serves as the industrial hub in India.*"
   ]
  },
  {
   "cell_type": "code",
   "execution_count": 134,
   "metadata": {},
   "outputs": [
    {
     "data": {
      "image/png": "[encoded data removed]",
      "text/plain": [
       "<Figure size 800x600 with 1 Axes>"
      ]
     },
     "metadata": {},
     "output_type": "display_data"
    }
   ],
   "source": [
    "# Assuming you have a DataFrame named 'merged_data' with columns 'sector' and 'location'\n",
    "\n",
    "# Filter data to include only startups in the FinTech sector\n",
    "fintech_data = merged_data[merged_data['sector'] == 'FinTech']\n",
    "\n",
    "# Group data by location (city) and count the number of FinTech startups in each location\n",
    "fintech_startup_count_per_location = fintech_data['location'].value_counts()\n",
    "\n",
    "# Select the top 5 locations with the highest number of FinTech startups\n",
    "top_5_locations = fintech_startup_count_per_location.head(5)\n",
    "\n",
    "# Plotting the top 5 locations with the highest number of FinTech startups\n",
    "plt.figure(figsize=(8, 6))\n",
    "sns.barplot(x=top_5_locations.values, y=top_5_locations.index, palette='Oranges')\n",
    "\n",
    "# Annotate the bars with count numbers\n",
    "for i, count in enumerate(top_5_locations.values):\n",
    "    plt.text(count + 0.1, i, str(count), ha='left', va='center')\n",
    "\n",
    "plt.title('Top 5 Locations with the Highest Number of FinTech Startups')\n",
    "plt.xlabel('Number of FinTech Startups')\n",
    "plt.ylabel('Location')\n",
    "# plt.invert_yaxis()  # Invert y-axis to display the highest count at the top\n",
    "\n",
    "plt.tight_layout()\n",
    "plt.show()\n"
   ]
  },
  {
   "cell_type": "markdown",
   "metadata": {},
   "source": [
    "Observation\n",
    "\n",
    "The findings reveal that the top locations with the highest startups Bangalore emerges as the industrial hub in India, boasting the highest number of FinTech startups among the top cities, followed by Mumbai, Gurugram, New Delhi, and Chennai.\n"
   ]
  },
  {
   "cell_type": "markdown",
   "metadata": {},
   "source": [
    "4. *Determine the top investors within the startup ecosystem and identify the proportion of investment by the first 3 investors that have funded different sectors from 2018 - 2021* "
   ]
  },
  {
   "cell_type": "code",
   "execution_count": 136,
   "metadata": {},
   "outputs": [
    {
     "data": {
      "image/png": "[encoded data removed]",
      "text/plain": [
       "<Figure size 800x500 with 1 Axes>"
      ]
     },
     "metadata": {},
     "output_type": "display_data"
    }
   ],
   "source": [
    "Top_10_investors_ = merged_data['Investor'].value_counts().head(5)\n",
    "\n",
    "# plot a bar chart to show the top 5 investors with the most number of startups\n",
    "plt.figure(figsize=(8, 5))\n",
    "Top_10_investors_.sort_values().plot(kind='barh', color='orange')\n",
    "plt.title('Top 5 Investors who funded different startups')\n",
    "plt.xlabel('Number of Startups')\n",
    "plt.ylabel('Investor');"
   ]
  },
  {
   "cell_type": "markdown",
   "metadata": {},
   "source": [
    "Observtion\n",
    "\n",
    "The analysis identifies Inflection Point Ventures, Venture Catalysts, and Mumbai Angels Network as the top investors within the Indian startup ecosystem. These key players have funded multiple startups across diverse sectors from 2018 to 2021. Inflection Point Ventures stands out with the highest proportion of investment, followed by Venture Catalysts and Mumbai Angels Network. Their diverse investment portfolios reflect a strategic approach to spreading risk and capitalizing on opportunities across various sectors, contributing to the growth and innovation of the startup ecosystem"
   ]
  },
  {
   "cell_type": "markdown",
   "metadata": {},
   "source": [
    "5. *Explore which stages of startups (e.g., Seed, Series A, Series B) are receiving the majority of investments. What are the predominant stages funded, and which cities are the identified stages of business situated.*"
   ]
  },
  {
   "cell_type": "code",
   "execution_count": 138,
   "metadata": {},
   "outputs": [
    {
     "data": {
      "image/png": "[encoded data removed]",
      "text/plain": [
       "<Figure size 1000x600 with 1 Axes>"
      ]
     },
     "metadata": {},
     "output_type": "display_data"
    }
   ],
   "source": [
    "# Group data by stage and calculate the sum of funding amount for each stage\n",
    "stage_funding = merged_data.groupby('stage')['Amount'].sum()\n",
    "\n",
    "# Select the top 5 stages with the highest total funding amounts\n",
    "top_5_stages = stage_funding.nlargest(5)\n",
    "\n",
    "# Plotting\n",
    "plt.figure(figsize=(10, 6))\n",
    "top_5_stages.plot(kind='bar', color='orange')\n",
    "plt.title('Distribution of Funding Across Top 5 Stages')\n",
    "plt.xlabel('Stage')\n",
    "plt.ylabel('Total Funding Amount')\n",
    "plt.xticks(rotation=45)\n",
    "plt.show()"
   ]
  },
  {
   "cell_type": "markdown",
   "metadata": {},
   "source": [
    "Observation\n",
    "\n",
    "The top investors in the Indian startup ecosystem have shown a preference for funding businesses at various stages, with a notable focus on Series B investments. Series B funding is favored due to reduced risk and significant growth potential, as startups at this stage have typically proven their business model and are ready to scale. Bangalore emerges as the primary location for Series B startups."
   ]
  },
  {
   "cell_type": "markdown",
   "metadata": {},
   "source": [
    "#### **Recommendation**"
   ]
  },
  {
   "cell_type": "markdown",
   "metadata": {},
   "source": [
    "Here are some recommendations for the team to consider, based on the observations of the Indian startup ecosystem:\n",
    "\n",
    "1. **Maintain Flexibility and Adaptability**: The Indian startup ecosystem has demonstrated resilience and growth potential, even in the face of challenges such as the economic uncertainty associated with the COVID-19 pandemic. The team should be prepared to navigate uncertainties and adapt strategies as needed.\n",
    "2. **Prioritize High-Growth Sectors**: The booming sectors within the Indian startup ecosystem, such as FinTech, EdTech, Finance, E-Commerce, and SaaS, offer lucrative opportunities for investment and innovation. The team should consider these sectors to capitalize on the growing demand and investor interest.\n",
    "3. **Develop a Location Strategy**: Bangalore has emerged as the industrial hub in India, with a high concentration of startups, particularly in the FinTech sector. The team should consider establishing a presence in Bangalore to tap into the vibrant startup ecosystem and access talent, resources, and networking opportunities.\n",
    "4. **Form Strategic Partnerships with Top Investors**: The team is encouraged to form strategic partnerships with top investors such as Inflection Point Ventures, Venture Catalysts, and Mumbai Angels Network. These investors have a proven track record of funding successful startups across diverse sectors and can provide valuable insights, mentorship, and funding opportunities.\n",
    "5. **Focus on Series B Investments**: Given the preference of top investors for Series B investments, the team should consider targeting startups at this stage for investment or partnership opportunities. Series B startups have typically proven their business model and are ready to scale, offering lower risk and significant growth potential."
   ]
  }
 ],
 "metadata": {
  "kernelspec": {
   "display_name": "Python 3",
   "language": "python",
   "name": "python3"
  },
  "language_info": {
   "codemirror_mode": {
    "name": "ipython",
    "version": 3
   },
   "file_extension": ".py",
   "mimetype": "text/x-python",
   "name": "python",
   "nbconvert_exporter": "python",
   "pygments_lexer": "ipython3",
   "version": "3.10.0"
  }
 },
 "nbformat": 4,
 "nbformat_minor": 2
}
